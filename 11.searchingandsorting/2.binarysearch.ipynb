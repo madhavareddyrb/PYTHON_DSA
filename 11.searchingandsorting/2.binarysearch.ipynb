{
 "cells": [
  {
   "cell_type": "code",
   "execution_count": 14,
   "id": "02f1adf9",
   "metadata": {},
   "outputs": [
    {
     "name": "stdout",
     "output_type": "stream",
     "text": [
      "[1, 2, 3, 4, 5, 6]\n",
      "5\n"
     ]
    }
   ],
   "source": [
    "def binary_search(arr,target):\n",
    "  size = len(arr)\n",
    "  start = 0\n",
    "  end = size-1\n",
    "  print(arr)\n",
    "  while start <= end:\n",
    "    middle = (start+end)//2\n",
    "    if not arr:\n",
    "      return -1\n",
    "    elif (arr[middle] == target):\n",
    "      return middle\n",
    "    elif arr[middle] < target:\n",
    "      start = middle+1\n",
    "    elif arr[middle] > target:\n",
    "      end = middle-1\n",
    "    \n",
    "  return -1\n",
    "\n",
    "mylst = [1,2,3,4,5,6]\n",
    "target = 6\n",
    "result = binary_search(mylst,target)\n",
    "print(result)"
   ]
  },
  {
   "cell_type": "markdown",
   "id": "7b2daaa5",
   "metadata": {},
   "source": [
    "#### 1.Count negative numbers in a sorted matrix\n",
    "Asked in companies:Samsung,Oyo,Groww,Dell\n",
    "Description:You are given an m x n matrix grid where each row and column is sorted in non-increasing order. Your task is to return the number of negative numbers present in the matrix.\n",
    "Parameters:\n",
    "grid (List[List[int]]): A 2D matrix with dimensions m x n, where each row and each column is sorted in non-increasing order.\n",
    "Return Values:\n",
    "Integer: The count of negative numbers in the matrix.\n",
    "Example:\n",
    "Input: grid = [[4, 3, 2, 1], [3, 2, 1, -1], [1, 1, -1, -2], [-1, -1, -2, -3]] \n",
    "Output: 7 \n",
    "Explanation: There are 7 negative numbers in the matrix."
   ]
  },
  {
   "cell_type": "code",
   "execution_count": 10,
   "id": "8f9b3ba4",
   "metadata": {},
   "outputs": [
    {
     "data": {
      "text/plain": [
       "7"
      ]
     },
     "execution_count": 10,
     "metadata": {},
     "output_type": "execute_result"
    }
   ],
   "source": [
    "def countNegative(grid):\n",
    "  count = 0\n",
    "  for i in range(len(grid)):\n",
    "    #print(i)\n",
    "    for innerindex in range(0,len(grid[i])):\n",
    "      #print(grid[i][innerindex])\n",
    "      if grid[i][innerindex] < 0:\n",
    "        count += 1\n",
    "  return count\n",
    "\n",
    "grid = [[4,3,2,1],[3,2,1,-1],[1,1,-1,-2],[-1,-1,-2,-3]]\n",
    "\n",
    "countNegative(grid)"
   ]
  },
  {
   "cell_type": "code",
   "execution_count": 11,
   "id": "8b604e4f",
   "metadata": {},
   "outputs": [
    {
     "data": {
      "text/plain": [
       "0"
      ]
     },
     "execution_count": 11,
     "metadata": {},
     "output_type": "execute_result"
    }
   ],
   "source": [
    "gri = [[4,0],[2,1]]\n",
    "countNegative(gri)"
   ]
  },
  {
   "cell_type": "code",
   "execution_count": 28,
   "id": "0513f490",
   "metadata": {},
   "outputs": [
    {
     "data": {
      "text/plain": [
       "True"
      ]
     },
     "execution_count": 28,
     "metadata": {},
     "output_type": "execute_result"
    }
   ],
   "source": [
    "#3.\n",
    "def charlarge(letters,target):\n",
    "  for i in letters:\n",
    "    if ord(target) < ord(i):\n",
    "      return i\n",
    "    elif target in letters:\n",
    "      return target > i\n",
    "    return i\n",
    "\n",
    "letters = ['c','j','m']\n",
    "target = 'j'\n",
    "\n",
    "charlarge(letters,target)"
   ]
  },
  {
   "cell_type": "code",
   "execution_count": 14,
   "id": "a28ab703",
   "metadata": {},
   "outputs": [
    {
     "data": {
      "text/plain": [
       "97"
      ]
     },
     "execution_count": 14,
     "metadata": {},
     "output_type": "execute_result"
    }
   ],
   "source": [
    "ord('a')"
   ]
  },
  {
   "cell_type": "code",
   "execution_count": null,
   "id": "22b4bf83",
   "metadata": {},
   "outputs": [],
   "source": []
  },
  {
   "cell_type": "code",
   "execution_count": null,
   "metadata": {},
   "outputs": [],
   "source": []
  },
  {
   "cell_type": "code",
   "execution_count": null,
   "metadata": {},
   "outputs": [],
   "source": []
  }
 ],
 "metadata": {
  "kernelspec": {
   "display_name": "dsavenv",
   "language": "python",
   "name": "python3"
  },
  "language_info": {
   "codemirror_mode": {
    "name": "ipython",
    "version": 3
   },
   "file_extension": ".py",
   "mimetype": "text/x-python",
   "name": "python",
   "nbconvert_exporter": "python",
   "pygments_lexer": "ipython3",
   "version": "3.13.5"
  }
 },
 "nbformat": 4,
 "nbformat_minor": 5
}
