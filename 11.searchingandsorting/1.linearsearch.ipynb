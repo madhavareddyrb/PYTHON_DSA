{
 "cells": [
  {
   "cell_type": "code",
   "execution_count": 2,
   "id": "1ff0eb45",
   "metadata": {},
   "outputs": [
    {
     "name": "stdout",
     "output_type": "stream",
     "text": [
      "4\n"
     ]
    }
   ],
   "source": [
    "##linear search arr and target\n",
    "def linear_search(arr,target):\n",
    "  size = len(arr)\n",
    "  for index in range(size):\n",
    "    if arr[index] == target:\n",
    "      return index\n",
    "    \n",
    "  return -1\n",
    "    \n",
    "my_list = [10,54,72,45,90,14,76,28]\n",
    "target = 90\n",
    "\n",
    "result = linear_search(my_list,target)\n",
    "print(result)"
   ]
  },
  {
   "cell_type": "code",
   "execution_count": null,
   "id": "9c26c368",
   "metadata": {},
   "outputs": [
    {
     "name": "stdout",
     "output_type": "stream",
     "text": [
      "6\n"
     ]
    }
   ],
   "source": [
    "def linear_search(arr,target):\n",
    "  size = len(arr)\n",
    "  for index in range(size):\n",
    "    if arr[index] == target:\n",
    "      return index\n",
    "  return -1\n",
    "\n",
    "my_li = [10,64,86,34,65,76,98,34]\n",
    "target = 98\n",
    "print(linear_search(my_li,target))"
   ]
  },
  {
   "cell_type": "code",
   "execution_count": 7,
   "id": "95830052",
   "metadata": {},
   "outputs": [
    {
     "name": "stdout",
     "output_type": "stream",
     "text": [
      "1\n"
     ]
    }
   ],
   "source": [
    "def linear_search(arr,target):\n",
    "  for index in range(len(arr)):\n",
    "    if arr[index] == target:\n",
    "      return index\n",
    "  \n",
    "  return -1\n",
    "\n",
    "lst = [10,201,60,70,6,7]\n",
    "target = 201\n",
    "print(linear_search(lst,target))"
   ]
  },
  {
   "cell_type": "code",
   "execution_count": 10,
   "id": "9db749e6",
   "metadata": {},
   "outputs": [
    {
     "name": "stdout",
     "output_type": "stream",
     "text": [
      "4\n"
     ]
    }
   ],
   "source": [
    "lst = [10,201,60,6,7,65,18,261]\n",
    "target =7\n",
    "print(linear_search(lst,target))"
   ]
  },
  {
   "cell_type": "code",
   "execution_count": null,
   "id": "3ee6bb99",
   "metadata": {},
   "outputs": [],
   "source": []
  }
 ],
 "metadata": {
  "kernelspec": {
   "display_name": "dsavenv",
   "language": "python",
   "name": "python3"
  },
  "language_info": {
   "codemirror_mode": {
    "name": "ipython",
    "version": 3
   },
   "file_extension": ".py",
   "mimetype": "text/x-python",
   "name": "python",
   "nbconvert_exporter": "python",
   "pygments_lexer": "ipython3",
   "version": "3.13.5"
  }
 },
 "nbformat": 4,
 "nbformat_minor": 5
}
