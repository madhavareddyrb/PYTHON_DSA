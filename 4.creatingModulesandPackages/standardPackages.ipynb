{
 "cells": [
  {
   "cell_type": "markdown",
   "id": "f555c6b7",
   "metadata": {},
   "source": [
    "## Python standard Library is a vast collection of modules and packages that come bundled with python,providing a wide range of functions out of the box\n",
    "There are so many packages and libraries so we are going to explore some of them here"
   ]
  },
  {
   "cell_type": "code",
   "execution_count": 3,
   "id": "ecffb951",
   "metadata": {},
   "outputs": [
    {
     "name": "stdout",
     "output_type": "stream",
     "text": [
      "array('i', [1, 2, 3, 6])\n"
     ]
    }
   ],
   "source": [
    "##array\n",
    "import array\n",
    "arr = array.array('i',[1,2,3,6]) #i = int datatype\n",
    "print(arr)"
   ]
  },
  {
   "cell_type": "code",
   "execution_count": 4,
   "id": "4f03c6a6",
   "metadata": {},
   "outputs": [
    {
     "name": "stdout",
     "output_type": "stream",
     "text": [
      "97\n",
      "cherry\n"
     ]
    }
   ],
   "source": [
    "#random module to generate a random numbers from 1 to 100 or any sets\n",
    "import random\n",
    "print(random.randint(1,100))\n",
    "print(random.choice(['apple','banana','cherry']))\n",
    "#print(random.choice('apple','banana','cherry')) # takes two so we are using list that means 1"
   ]
  },
  {
   "cell_type": "code",
   "execution_count": 5,
   "id": "04f785eb",
   "metadata": {},
   "outputs": [
    {
     "name": "stdout",
     "output_type": "stream",
     "text": [
      "c:\\Users\\HP\\Downloads\\PYTHON_DSA\\4.creatingModulesandPackages\n"
     ]
    },
    {
     "ename": "FileExistsError",
     "evalue": "[WinError 183] Cannot create a file when that file already exists: 'test_directory'",
     "output_type": "error",
     "traceback": [
      "\u001b[31m---------------------------------------------------------------------------\u001b[39m",
      "\u001b[31mFileExistsError\u001b[39m                           Traceback (most recent call last)",
      "\u001b[36mCell\u001b[39m\u001b[36m \u001b[39m\u001b[32mIn[5]\u001b[39m\u001b[32m, line 4\u001b[39m\n\u001b[32m      2\u001b[39m \u001b[38;5;28;01mimport\u001b[39;00m\u001b[38;5;250m \u001b[39m\u001b[34;01mos\u001b[39;00m\n\u001b[32m      3\u001b[39m \u001b[38;5;28mprint\u001b[39m(os.getcwd()) \u001b[38;5;66;03m#getcwd gets current working directory\u001b[39;00m\n\u001b[32m----> \u001b[39m\u001b[32m4\u001b[39m \u001b[43mos\u001b[49m\u001b[43m.\u001b[49m\u001b[43mmkdir\u001b[49m\u001b[43m(\u001b[49m\u001b[33;43m'\u001b[39;49m\u001b[33;43mtest_directory\u001b[39;49m\u001b[33;43m'\u001b[39;49m\u001b[43m)\u001b[49m \u001b[38;5;66;03m# makes a folder with test_directory\u001b[39;00m\n",
      "\u001b[31mFileExistsError\u001b[39m: [WinError 183] Cannot create a file when that file already exists: 'test_directory'"
     ]
    }
   ],
   "source": [
    "## os module used to work with files and directories in Python(access)\n",
    "import os\n",
    "print(os.getcwd()) #getcwd gets current working directory\n",
    "os.mkdir('test_directory') # makes a folder with test_directory"
   ]
  },
  {
   "cell_type": "code",
   "execution_count": 8,
   "id": "ed0fecae",
   "metadata": {},
   "outputs": [
    {
     "data": {
      "text/plain": [
       "'destination.txt'"
      ]
     },
     "execution_count": 8,
     "metadata": {},
     "output_type": "execute_result"
    }
   ],
   "source": [
    "#High Level operations on files and collections of files using shutil\n",
    "\n",
    "import shutil\n",
    "shutil.copyfile('source.txt','destination.txt') # it will create a file with destination.txt file"
   ]
  },
  {
   "cell_type": "code",
   "execution_count": 11,
   "id": "d20d58b3",
   "metadata": {},
   "outputs": [
    {
     "name": "stdout",
     "output_type": "stream",
     "text": [
      "{\"name\": \"madhava\", \"age\": 22}\n",
      "<class 'str'>\n"
     ]
    }
   ],
   "source": [
    "#data serialization means Data is in Json to dictionary and dictonary to json and fetching api data like that \n",
    "import json\n",
    "data = {'name':'madhava','age':22}\n",
    "json_str = json.dumps(data)\n",
    "print(json_str)\n",
    "print(type(json_str))"
   ]
  },
  {
   "cell_type": "code",
   "execution_count": 12,
   "id": "ee1df3e9",
   "metadata": {},
   "outputs": [
    {
     "name": "stdout",
     "output_type": "stream",
     "text": [
      "{'name': 'madhava', 'age': 22}\n",
      "<class 'dict'>\n"
     ]
    }
   ],
   "source": [
    "# changing to dic again\n",
    "parsed_json = json.loads(json_str)\n",
    "print(parsed_json)\n",
    "print(type(parsed_json))"
   ]
  },
  {
   "cell_type": "code",
   "execution_count": null,
   "id": "fa446f31",
   "metadata": {},
   "outputs": [
    {
     "name": "stdout",
     "output_type": "stream",
     "text": [
      "['name', 'age']\n",
      "['madhava', '23']\n"
     ]
    }
   ],
   "source": [
    "## csv\n",
    "import csv\n",
    "with open('example.csv',mode='w',newline=\"\") as file:\n",
    "  writer = csv.writer(file)\n",
    "  writer.writerow(['name','age'])\n",
    "  writer.writerow(['madhava',23])\n",
    "\n",
    "\n",
    "with open('example.csv',mode='r') as file:\n",
    "  reader = csv.reader(file)\n",
    "  for row in reader:\n",
    "    print(row)"
   ]
  },
  {
   "cell_type": "code",
   "execution_count": 19,
   "id": "dae7ac01",
   "metadata": {},
   "outputs": [
    {
     "name": "stdout",
     "output_type": "stream",
     "text": [
      "2025-07-14 14:38:59.183621\n",
      "2025-07-13 14:38:59.183621\n"
     ]
    }
   ],
   "source": [
    "#datetime\n",
    "\n",
    "from datetime import datetime,timedelta\n",
    "now = datetime.now()\n",
    "yesterday = now-timedelta(days=1)\n",
    "print(now)\n",
    "print(yesterday)"
   ]
  },
  {
   "cell_type": "code",
   "execution_count": 20,
   "id": "4a8e9cb7",
   "metadata": {},
   "outputs": [
    {
     "name": "stdout",
     "output_type": "stream",
     "text": [
      "1752484207.855576\n"
     ]
    }
   ],
   "source": [
    "#time module\n",
    "import time\n",
    "print(time.time())"
   ]
  },
  {
   "cell_type": "code",
   "execution_count": null,
   "id": "507f9a75",
   "metadata": {},
   "outputs": [
    {
     "name": "stdout",
     "output_type": "stream",
     "text": [
      "1752484684.509863\n",
      "1752484687.5120754\n"
     ]
    }
   ],
   "source": [
    "print(time.time())\n",
    "time.sleep(3) #after 3 seconds the output will print\n",
    "print(time.time())"
   ]
  },
  {
   "cell_type": "code",
   "execution_count": 26,
   "id": "bcae9cd0",
   "metadata": {},
   "outputs": [
    {
     "name": "stdout",
     "output_type": "stream",
     "text": [
      "123\n"
     ]
    }
   ],
   "source": [
    "#regular expression\n",
    "import re\n",
    "pattern = r'\\d+' # read digits from text\n",
    "text = 'There are 123 apples'\n",
    "match = re.search(pattern,text)\n",
    "print(match.group())"
   ]
  },
  {
   "cell_type": "code",
   "execution_count": null,
   "id": "08b966a4",
   "metadata": {},
   "outputs": [],
   "source": []
  }
 ],
 "metadata": {
  "kernelspec": {
   "display_name": "dsavenv",
   "language": "python",
   "name": "python3"
  },
  "language_info": {
   "codemirror_mode": {
    "name": "ipython",
    "version": 3
   },
   "file_extension": ".py",
   "mimetype": "text/x-python",
   "name": "python",
   "nbconvert_exporter": "python",
   "pygments_lexer": "ipython3",
   "version": "3.13.5"
  }
 },
 "nbformat": 4,
 "nbformat_minor": 5
}
