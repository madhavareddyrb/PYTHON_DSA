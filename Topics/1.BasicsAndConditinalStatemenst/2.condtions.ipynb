{
 "cells": [
  {
   "cell_type": "markdown",
   "id": "c5878ae0",
   "metadata": {},
   "source": [
    "#if elif else These are three we are going to use for checking condditions\n",
    "\n"
   ]
  },
  {
   "cell_type": "code",
   "execution_count": 1,
   "id": "bede39dd",
   "metadata": {},
   "outputs": [
    {
     "name": "stdout",
     "output_type": "stream",
     "text": [
      "you can vote\n"
     ]
    }
   ],
   "source": [
    "#if\n",
    "age = 20\n",
    "if age >= 18:\n",
    "  print(\"you can vote\")"
   ]
  },
  {
   "cell_type": "code",
   "execution_count": 2,
   "id": "8eea8637",
   "metadata": {},
   "outputs": [
    {
     "name": "stdout",
     "output_type": "stream",
     "text": [
      "you are not eligiable for voting\n"
     ]
    }
   ],
   "source": [
    "age = 10\n",
    "if age < 18:\n",
    "  print(\"you are not eligiable for voting\")"
   ]
  },
  {
   "cell_type": "code",
   "execution_count": null,
   "id": "6bfe9345",
   "metadata": {},
   "outputs": [
    {
     "name": "stdout",
     "output_type": "stream",
     "text": [
      "You are nt eligible for voting\n"
     ]
    }
   ],
   "source": [
    "#the 2 condtions now we are going to use else to write at a time \n",
    "age = 15\n",
    "if age >= 18:\n",
    "  print(\"You are eligble for voting\")\n",
    "else:\n",
    "  print(\"You are not elgible for voting\")"
   ]
  },
  {
   "cell_type": "code",
   "execution_count": null,
   "id": "518fd224",
   "metadata": {},
   "outputs": [
    {
     "name": "stdout",
     "output_type": "stream",
     "text": [
      "you are an adult\n"
     ]
    }
   ],
   "source": [
    "# to check more condtion for perticular thing we are going to use elif starement\n",
    "\n",
    "age = 20\n",
    "if age < 13:\n",
    "  print(\"You are a child\")\n",
    "elif age < 18:\n",
    "  print (\"you are an teenager\")\n",
    "else:\n",
    "  print(\"you are an adult\")\n",
    "\n"
   ]
  },
  {
   "cell_type": "markdown",
   "id": "064fd238",
   "metadata": {},
   "source": [
    "##Nested conditions to check even or odd and positive or negative also\n"
   ]
  },
  {
   "cell_type": "code",
   "execution_count": 13,
   "id": "c90f7bd5",
   "metadata": {},
   "outputs": [
    {
     "name": "stdout",
     "output_type": "stream",
     "text": [
      "You have enetred zero\n"
     ]
    }
   ],
   "source": [
    "num = int(input(\"Enter Number: \"))\n",
    "if num == 0:\n",
    "  print(\"You have enetred zero\")\n",
    "if num > 0 :\n",
    "  print(\"Number is positive\")\n",
    "  if num % 2 == 0:\n",
    "    print(\"Even Number\")\n",
    "  else:\n",
    "    print(\"odd number\")\n",
    "\n",
    "if num < 0:\n",
    "  print(\"Negative number\")\n",
    "  if num % 2 == 0:\n",
    "    print(\"even and negative number\")\n",
    "  else:\n",
    "    print(\"odd and negative number\")"
   ]
  },
  {
   "cell_type": "markdown",
   "id": "9966bd25",
   "metadata": {},
   "source": [
    "##Prime Number\n",
    "a number divisible by 4  but not divisible by 100 ( year % 4 == 0 and year % 100 != 0)\n",
    "or number must be divisible by 400 and 100 to become a leap year\n"
   ]
  },
  {
   "cell_type": "code",
   "execution_count": 8,
   "id": "b0d31393",
   "metadata": {},
   "outputs": [
    {
     "name": "stdout",
     "output_type": "stream",
     "text": [
      "1125 is not a leap year\n"
     ]
    }
   ],
   "source": [
    "year  = int(input(\"enter any year: \"))\n",
    "if year % 4 == 0:\n",
    "  if year % 100 == 0:\n",
    "    if year % 400 == 0:\n",
    "      print(f\"{year} is leap year\")\n",
    "    else:\n",
    "      print(f\"{year} is not leap year\")\n",
    "  else:\n",
    "    print(f\"{year} is leap year\")\n",
    "else:\n",
    "  print(f\"{year} is not a leap year\")\n"
   ]
  },
  {
   "cell_type": "markdown",
   "id": "e28f1d1f",
   "metadata": {},
   "source": [
    "##simple calculater"
   ]
  },
  {
   "cell_type": "code",
   "execution_count": null,
   "id": "2aeafbfc",
   "metadata": {},
   "outputs": [
    {
     "name": "stdout",
     "output_type": "stream",
     "text": [
      "10.0 (/) -5.0\n",
      "result: -2.0\n"
     ]
    }
   ],
   "source": [
    "number1 = float(input(\"Enter number1: \"))\n",
    "number2 = float(input(\"Enter your number2: \"))\n",
    "operation = input(\"Enter your operator(+,-,*,/): \") \n",
    "print(f\"{number1} ({operation}) {number2}\")\n",
    "if operation == \"+\":\n",
    "  result = (number1 + number2)\n",
    "elif operation == \"-\":\n",
    "  result = (number1-number2)\n",
    "elif operation == \"*\":\n",
    "  result = (number1 * number2)\n",
    "elif operation == \"/\":\n",
    "  if number2 != 0:\n",
    "    result = number1/number2\n",
    "  else:\n",
    "    result = \"Error! division by zero\"  \n",
    "else:\n",
    "  result = (\"You have entered worng opeartor.Please choose from these opeartors (+,-,*,/)\")\n",
    "\n",
    "print(f\"result: {result}\" )\n"
   ]
  },
  {
   "cell_type": "markdown",
   "id": "4230950f",
   "metadata": {},
   "source": [
    "Determine the ticket price based on age and whether the person is a student.\n",
    "Ticket pricing based on age and student status"
   ]
  },
  {
   "cell_type": "code",
   "execution_count": null,
   "id": "6dc19be1",
   "metadata": {},
   "outputs": [
    {
     "name": "stdout",
     "output_type": "stream",
     "text": [
      "20 years means ₹10\n"
     ]
    }
   ],
   "source": [
    "age =int(input(\"How old are you: \"))\n",
    "is_student = input(\"Are you a student? (yes/no)\")\n",
    "if age <= 5:\n",
    "  ticketPrice = \"Free\"\n",
    "elif age < 18 :\n",
    "  if is_student == \"yes\":\n",
    "    ticketPrice = \"₹15\"\n",
    "  else:\n",
    "   ticketPrice = \"₹20\"\n",
    "elif age < 60:\n",
    "  ticketPrice = \"₹10\"\n",
    "else:\n",
    "  ticketPrice = \"₹25\"\n",
    "\n",
    "print(f\"{age} years means {ticketPrice}\")\n"
   ]
  },
  {
   "cell_type": "code",
   "execution_count": null,
   "id": "9678a1cc",
   "metadata": {},
   "outputs": [],
   "source": []
  }
 ],
 "metadata": {
  "kernelspec": {
   "display_name": "venv",
   "language": "python",
   "name": "python3"
  },
  "language_info": {
   "codemirror_mode": {
    "name": "ipython",
    "version": 3
   },
   "file_extension": ".py",
   "mimetype": "text/x-python",
   "name": "python",
   "nbconvert_exporter": "python",
   "pygments_lexer": "ipython3",
   "version": "3.13.4"
  }
 },
 "nbformat": 4,
 "nbformat_minor": 5
}
