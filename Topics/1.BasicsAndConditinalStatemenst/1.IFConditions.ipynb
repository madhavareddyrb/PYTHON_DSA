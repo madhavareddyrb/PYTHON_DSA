{
 "cells": [
  {
   "cell_type": "markdown",
   "id": "fbe00ebe-7b27-42f2-9a83-7ebf13289aec",
   "metadata": {},
   "source": [
    "1.Write a program to check whether a specific player is available in team or not, if not available\n",
    "then append in the team\n",
    "team = ['Kohli', 'Dhoni', 'Sachin', 'Surya']"
   ]
  },
  {
   "cell_type": "code",
   "execution_count": 12,
   "id": "c83357d9-e3e6-4a0d-9173-b1cb35cc40ae",
   "metadata": {},
   "outputs": [
    {
     "name": "stdout",
     "output_type": "stream",
     "text": [
      "Enter team name:  Dhoni\n"
     ]
    },
    {
     "name": "stdout",
     "output_type": "stream",
     "text": [
      "name is alrready present in ['Kohli', 'Dhoni', 'Sachin', 'Surya']\n",
      "['Kohli', 'Dhoni', 'Sachin', 'Surya']\n"
     ]
    }
   ],
   "source": [
    "team = ['Kohli', 'Dhoni', 'Sachin', 'Surya']\n",
    "name = str(input(\"Enter team name: \"))\n",
    "if name in team:\n",
    "    print(f'name is alrready present in {team}')\n",
    "else:\n",
    "    team.append(name)\n",
    "print(team)"
   ]
  },
  {
   "cell_type": "markdown",
   "id": "1e389087-2a3e-4590-a653-d8d68473d2a4",
   "metadata": {},
   "source": [
    "2.Write a program to check which language is learning by student. If he is learning Python then tell\n",
    "him/her that he/she is learning updated skill otherwise tell him/her to learn python"
   ]
  },
  {
   "cell_type": "code",
   "execution_count": 18,
   "id": "02002b1c-af93-467a-80ec-e815e0035ddd",
   "metadata": {},
   "outputs": [
    {
     "name": "stdout",
     "output_type": "stream",
     "text": [
      "tell him to learn updated skills\n"
     ]
    }
   ],
   "source": [
    "student = \"Python\"\n",
    "program = \"Pytho\"\n",
    "if student == program :\n",
    "    print(\"Student is learning updated skills\")\n",
    "else:\n",
    "    print(\"tell him to learn updated skills\")\n"
   ]
  },
  {
   "cell_type": "markdown",
   "id": "769b6695-6904-432a-82de-ba988bc05861",
   "metadata": {},
   "source": [
    "3.Write a program to check whether the given number is divisible by 10 or not?"
   ]
  },
  {
   "cell_type": "code",
   "execution_count": 22,
   "id": "6a961754-5919-41e3-9ef5-5e7a2e8f8ca0",
   "metadata": {},
   "outputs": [
    {
     "name": "stdout",
     "output_type": "stream",
     "text": [
      "enter a number:  33\n"
     ]
    },
    {
     "name": "stdout",
     "output_type": "stream",
     "text": [
      "not divisible by 10\n"
     ]
    }
   ],
   "source": [
    "num = int(input(\"enter a number: \"))\n",
    "if num % 10 == 0:\n",
    "    print(\"divisible is 10\")\n",
    "else:\n",
    "    print(\"not divisible by 10\")"
   ]
  },
  {
   "cell_type": "markdown",
   "id": "402066b8-b418-49fc-bc65-7a43e3dc7414",
   "metadata": {},
   "source": [
    "4.Write a program to check what type of value is given by user?"
   ]
  },
  {
   "cell_type": "code",
   "execution_count": 32,
   "id": "f72856e6-b1e8-4ad3-8be6-c6e0d02a66d1",
   "metadata": {},
   "outputs": [
    {
     "name": "stdout",
     "output_type": "stream",
     "text": [
      "enter any thing:  7.9\n"
     ]
    },
    {
     "name": "stdout",
     "output_type": "stream",
     "text": [
      "<class 'float'>\n"
     ]
    }
   ],
   "source": [
    "user = eval(input(\"enter any thing: \"))\n",
    "print(type(user))"
   ]
  },
  {
   "cell_type": "markdown",
   "id": "752a5b7f-4705-4121-beec-ff2fca2151f5",
   "metadata": {},
   "source": [
    "5.Write a program to check whether a given string is available or not in the string?"
   ]
  },
  {
   "cell_type": "code",
   "execution_count": 34,
   "id": "cde37db6-0cbb-4cbf-b701-5a6a2363f42a",
   "metadata": {},
   "outputs": [
    {
     "name": "stdout",
     "output_type": "stream",
     "text": [
      "available\n"
     ]
    }
   ],
   "source": [
    "stringValue = \"My name is madhava\"\n",
    "substring = 'madhava'\n",
    "if substring in stringValue:\n",
    "    print(\"available\")\n",
    "else:\n",
    "    print('not available')"
   ]
  },
  {
   "cell_type": "markdown",
   "id": "faaa5561-beca-49f5-bd9c-04a0f813fa27",
   "metadata": {},
   "source": [
    "Write a program for following requirement:\n",
    "Monday, Tuesday, Wednesday, Thursday --> You can wear School Uniform\n",
    " Friday --> You can wear Civil Dress\n",
    " Saturday --> You can wear white and white\n",
    " Sunday --> Its your choice"
   ]
  },
  {
   "cell_type": "code",
   "execution_count": 52,
   "id": "d84fbc25-d077-4d80-b422-5c110667812e",
   "metadata": {},
   "outputs": [
    {
     "name": "stdout",
     "output_type": "stream",
     "text": [
      "enter name of the day:  hdhd\n"
     ]
    },
    {
     "name": "stdout",
     "output_type": "stream",
     "text": [
      "enter names of the week days\n"
     ]
    }
   ],
   "source": [
    "day = input(\"enter name of the day: \")\n",
    "if day == 'Monday' or day == 'Tuesday'or day == 'Wednesday'or day == 'Thursday':\n",
    "    print('You can wear school Uniform')\n",
    "elif day == \"Friday\":\n",
    "    print(\"you can wear civil dress\")\n",
    "elif day == 'Saturday':\n",
    "    print(\"yoc can waer white and white\")\n",
    "elif day == 'Sunday':\n",
    "    print(\"Its your choice\")\n",
    "else:\n",
    "    print(\"enter names of the week days\")"
   ]
  },
  {
   "cell_type": "markdown",
   "id": "84f829e7-a2f1-40a0-9847-4efb327974ce",
   "metadata": {},
   "source": [
    "8.Write a program for following requirement:\n",
    "you need to ask user to enter name, gender.\n",
    "if gender is male then ask him to enter age. if age is more then 30 then ask him to marry.\n",
    "if gender is female then ask her to enter age. if age is more then 25 then ask her to marry."
   ]
  },
  {
   "cell_type": "code",
   "execution_count": 82,
   "id": "4418f995-8ccb-41c1-a650-eeb6b128a430",
   "metadata": {},
   "outputs": [
    {
     "name": "stdout",
     "output_type": "stream",
     "text": [
      "enter your name: madhava\n",
      "enter your gender: male\n",
      "enter your age: 2\n"
     ]
    },
    {
     "name": "stdout",
     "output_type": "stream",
     "text": [
      "You have some time\n"
     ]
    }
   ],
   "source": [
    "user_name = input(\"enter your name:\")\n",
    "gender = input(\"enter your gender:\")\n",
    "if gender == 'male':\n",
    "    age = int(input('enter your age:'))\n",
    "    if age > 30:\n",
    "        print(\"marry soon\")\n",
    "    else:\n",
    "        print(\"You have some time\")\n",
    "elif gender == 'female':\n",
    "    age = int(input('enter your age: '))\n",
    "    if age > 25:\n",
    "        print(\"marry soon\")\n",
    "    else:\n",
    "        print(\"You have some time\")\n",
    "else:\n",
    "    if gender != 'male' and gender != 'female':\n",
    "        print(\"please enter your gender('male','female')\")"
   ]
  },
  {
   "cell_type": "markdown",
   "id": "af757c0d-67d1-4ef8-a8b6-5da29eda4998",
   "metadata": {},
   "source": [
    "9. Write a Python Program to find BMI(Body Mass Index)?\n",
    "Take height (in cms) and weight (in kgs) from user.\n",
    "Calculate BMI by using height and weight.\n",
    "Note: Convert cms into metres\n",
    "BMI = Weight(in kg) / Height*Height(in metre)\n",
    "if BMI between 0 and 18.5, display \"Underweight\",\n",
    "if BMI between 18.5 and 24.9, display \"Normal Weight\"\n",
    "if BMI between 25.0 and 29.9, display \"Pre-Obesity\"\n",
    "if BMI between 30.0 and 40.0, display \"Obesity\"\n",
    "if BMI between 40. and above, display \"Extremly Obesity\""
   ]
  },
  {
   "cell_type": "code",
   "execution_count": 104,
   "id": "95aeada4-ab36-4c6f-96c9-99617749f6bc",
   "metadata": {},
   "outputs": [
    {
     "name": "stdout",
     "output_type": "stream",
     "text": [
      "enter your height in cm:  170\n",
      "enter your weight in kgs:  70\n"
     ]
    },
    {
     "name": "stdout",
     "output_type": "stream",
     "text": [
      "Normal Weight\n"
     ]
    }
   ],
   "source": [
    "height = int(input(\"enter your height in cm: \"))\n",
    "weight = int(input(\"enter your weight in kgs: \"))\n",
    "height_Meter = (height / 100)**2\n",
    "#heightinM = height_Meter*height_Meter\n",
    "bmi = weight / height_Meter\n",
    "if bmi >= 0 and bmi < 18.5:\n",
    "    print(\"Underweight\")\n",
    "elif bmi > 18.5 and bmi <=24.9:\n",
    "    print(\"Normal Weight\")\n",
    "elif bmi >=25.0 and bmi <= 29.9:\n",
    "    print('Pre-Obesity')\n",
    "elif bmi >= 30.0 and bmi < 40.0:\n",
    "    print(\"Obesity\")\n",
    "elif bmi > 40 and bmi <100:\n",
    "    print(\"Extermly Obesity\")\n",
    "else:\n",
    "    print(\"unthinkable\")"
   ]
  },
  {
   "cell_type": "markdown",
   "id": "58037687-6143-4058-b694-193b3f3c0c3e",
   "metadata": {},
   "source": [
    "Write a Python Program to take any one number from user, that number must be between 1 and 10.\n",
    "If the number is below 1 or more than 10 then display \"Please enter any number between 1 and 10\".\n",
    "If the number between 1 and 10 then check it whether the number divisible by 2 or not.\n",
    "If the number divisible by 2 then display \"You have entered even number.\"\n",
    "If the number is not divisible by 2 then display \"You have entered odd number.\""
   ]
  },
  {
   "cell_type": "code",
   "execution_count": 125,
   "id": "3f6368b8-b6eb-4d43-87f2-582c9a20f661",
   "metadata": {},
   "outputs": [
    {
     "name": "stdout",
     "output_type": "stream",
     "text": [
      "Enter number:  7\n"
     ]
    },
    {
     "name": "stdout",
     "output_type": "stream",
     "text": [
      "You have entered odd number.\n"
     ]
    }
   ],
   "source": [
    "number = int(input(\"Enter number: \"))\n",
    "if number < 1 or number > 10:\n",
    "  print(\"Please enter any number between 1 and 10\")\n",
    "if  number >= 1 and number <= 10:\n",
    "  if number % 2 == 0 :\n",
    "    print(\"you have enterd even number\")\n",
    "  else:\n",
    "    print(\"You have entered odd number.\")"
   ]
  },
  {
   "cell_type": "code",
   "execution_count": null,
   "id": "c2d20a69-7679-4627-b06c-63ef9ad3ca06",
   "metadata": {},
   "outputs": [],
   "source": []
  },
  {
   "cell_type": "code",
   "execution_count": null,
   "id": "47997e7f-0809-4da8-a141-93da2065e31f",
   "metadata": {},
   "outputs": [],
   "source": []
  },
  {
   "cell_type": "code",
   "execution_count": null,
   "id": "bc6c11e5-6ea5-443b-b71c-71ee7b249866",
   "metadata": {},
   "outputs": [],
   "source": []
  }
 ],
 "metadata": {
  "kernelspec": {
   "display_name": "venv",
   "language": "python",
   "name": "python3"
  },
  "language_info": {
   "codemirror_mode": {
    "name": "ipython",
    "version": 3
   },
   "file_extension": ".py",
   "mimetype": "text/x-python",
   "name": "python",
   "nbconvert_exporter": "python",
   "pygments_lexer": "ipython3",
   "version": "3.13.4"
  }
 },
 "nbformat": 4,
 "nbformat_minor": 5
}
