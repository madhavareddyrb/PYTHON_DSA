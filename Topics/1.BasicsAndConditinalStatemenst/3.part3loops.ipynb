{
 "cells": [
  {
   "cell_type": "markdown",
   "id": "3fd3f0e6",
   "metadata": {},
   "source": [
    "#Loops means iteratting again and again until the condition satisfiy\n",
    "There are two loops \n",
    "1.For Loops(When we know already how many times we need to iterate we will use for loops 5 times like that)\n",
    "2.While loops(When we don't know how many times the loop need to iterate)"
   ]
  },
  {
   "cell_type": "markdown",
   "id": "a0ec2d51",
   "metadata": {},
   "source": [
    "#we can generate numbers using range() function with for loop\n",
    "\n"
   ]
  },
  {
   "cell_type": "code",
   "execution_count": null,
   "metadata": {},
   "outputs": [
    {
     "data": {
      "text/plain": [
       "range(0, 10)"
      ]
     },
     "execution_count": 1,
     "metadata": {},
     "output_type": "execute_result"
    }
   ],
   "source": [
    "range(10) # range(start,stop,step)"
   ]
  },
  {
   "cell_type": "code",
   "execution_count": null,
   "metadata": {},
   "outputs": [
    {
     "data": {
      "text/plain": [
       "range(3, 9)"
      ]
     },
     "execution_count": 2,
     "metadata": {},
     "output_type": "execute_result"
    }
   ],
   "source": [
    "range(3,9) # start and stop example"
   ]
  },
  {
   "cell_type": "code",
   "execution_count": null,
   "metadata": {},
   "outputs": [],
   "source": [
    "range(10) # if don't mention it will take from 0 has start and stop"
   ]
  },
  {
   "cell_type": "code",
   "execution_count": 4,
   "metadata": {},
   "outputs": [
    {
     "data": {
      "text/plain": [
       "range(2, 10, 2)"
      ]
     },
     "execution_count": 4,
     "metadata": {},
     "output_type": "execute_result"
    }
   ],
   "source": [
    "range(2,10,2) # it will print all even numbers because we have given step = 2"
   ]
  },
  {
   "cell_type": "code",
   "execution_count": null,
   "metadata": {},
   "outputs": [
    {
     "name": "stdout",
     "output_type": "stream",
     "text": [
      "1\n",
      "2\n",
      "3\n",
      "4\n",
      "5\n",
      "6\n",
      "7\n",
      "8\n",
      "9\n"
     ]
    }
   ],
   "source": [
    "#For Loop is used when you have certain \n",
    "# always remeber that when printing range values it is always stop-1 value 10 means it will print upto 9.\n",
    "for loop in range(1,10):\n",
    "  print(loop)"
   ]
  },
  {
   "cell_type": "code",
   "execution_count": 7,
   "id": "f6f5f095",
   "metadata": {},
   "outputs": [
    {
     "name": "stdout",
     "output_type": "stream",
     "text": [
      "11\n",
      "10\n",
      "9\n",
      "8\n",
      "7\n",
      "6\n",
      "5\n",
      "4\n",
      "3\n"
     ]
    }
   ],
   "source": [
    "for loop in range(11,2,-1):\n",
    "  print(loop)"
   ]
  },
  {
   "cell_type": "code",
   "execution_count": 1,
   "id": "6e05b3bd",
   "metadata": {},
   "outputs": [
    {
     "name": "stdout",
     "output_type": "stream",
     "text": [
      "2\n",
      "3\n",
      "5\n",
      "7\n",
      "11\n",
      "13\n",
      "17\n",
      "19\n",
      "23\n",
      "29\n",
      "31\n",
      "37\n",
      "41\n",
      "43\n",
      "47\n",
      "53\n",
      "59\n",
      "61\n",
      "67\n",
      "71\n",
      "73\n",
      "79\n",
      "83\n",
      "89\n",
      "97\n"
     ]
    }
   ],
   "source": [
    "#prime number\n",
    "\n",
    "for num in range(1,101):\n",
    "  if num > 1:\n",
    "    for i in range(2,num):\n",
    "      if num % i == 0 :\n",
    "        break\n",
    "    else:\n",
    "      print(num)\n",
    "\n"
   ]
  }
 ],
 "metadata": {
  "kernelspec": {
   "display_name": "venv",
   "language": "python",
   "name": "python3"
  },
  "language_info": {
   "codemirror_mode": {
    "name": "ipython",
    "version": 3
   },
   "file_extension": ".py",
   "mimetype": "text/x-python",
   "name": "python",
   "nbconvert_exporter": "python",
   "pygments_lexer": "ipython3",
   "version": "3.13.4"
  }
 },
 "nbformat": 4,
 "nbformat_minor": 5
}
