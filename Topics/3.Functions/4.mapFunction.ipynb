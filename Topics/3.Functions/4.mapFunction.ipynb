{
 "cells": [
  {
   "cell_type": "markdown",
   "id": "ac916843",
   "metadata": {},
   "source": [
    "#### Map Function in Python\n",
    "\n",
    "The map() function applies a given function to all items in an input list(or any other iterable) and returns a map object (an iterator).This is particularly useful for transforming data in a list comprehensively."
   ]
  },
  {
   "cell_type": "code",
   "execution_count": 1,
   "id": "a0627e4d",
   "metadata": {},
   "outputs": [
    {
     "data": {
      "text/plain": [
       "100"
      ]
     },
     "execution_count": 1,
     "metadata": {},
     "output_type": "execute_result"
    }
   ],
   "source": [
    "def square(x):\n",
    "  return x * x\n",
    "\n",
    "square(10)"
   ]
  },
  {
   "cell_type": "code",
   "execution_count": null,
   "id": "fd618904",
   "metadata": {},
   "outputs": [
    {
     "name": "stdout",
     "output_type": "stream",
     "text": [
      "[1, 4, 9, 16, 25]\n"
     ]
    },
    {
     "data": {
      "text/plain": [
       "[1, 4, 9, 16, 25]"
      ]
     },
     "execution_count": 5,
     "metadata": {},
     "output_type": "execute_result"
    }
   ],
   "source": [
    "numbers = [1,2,3,4,5]\n",
    "print(list(map(square,numbers)))\n",
    "# lambda with map\n",
    "list(map(lambda x : x * x,numbers))"
   ]
  },
  {
   "cell_type": "code",
   "execution_count": null,
   "id": "ddcdacd2",
   "metadata": {},
   "outputs": [
    {
     "name": "stdout",
     "output_type": "stream",
     "text": [
      "[5, 7, 9]\n"
     ]
    }
   ],
   "source": [
    "## Map Multiple iterables\n",
    "\n",
    "numbers1 = [1,2,3]\n",
    "numbers2 = [4,5,6,9,10] # add upto same positions\n",
    "\n",
    "add_numbers = list(map(lambda x,y : x+y,numbers1,numbers2))\n",
    "print(add_numbers)"
   ]
  },
  {
   "cell_type": "code",
   "execution_count": 12,
   "id": "4d76c4df",
   "metadata": {},
   "outputs": [
    {
     "name": "stdout",
     "output_type": "stream",
     "text": [
      "[1, 2, 3, 4]\n",
      "[1.0, 2.0, 3.0, 4.0]\n"
     ]
    }
   ],
   "source": [
    "## map() to convert a list of strings to integers\n",
    "\n",
    "#use map to convert strings to integers\n",
    "\n",
    "str_numbers = ['1','2','3','4']\n",
    "print(list(map(int,str_numbers))) #int convert to integers type\n",
    "\n",
    "print(list(map(float,str_numbers)))"
   ]
  },
  {
   "cell_type": "code",
   "execution_count": 20,
   "id": "a732d58f",
   "metadata": {},
   "outputs": [
    {
     "name": "stdout",
     "output_type": "stream",
     "text": [
      "['APPLE', 'BANANA', 'CHERRY']\n",
      "['Apple', 'Banana', 'Cherry']\n",
      "[True, True, True]\n"
     ]
    }
   ],
   "source": [
    "words = ['apple','banana','cherry']\n",
    "print(list(map(str.upper,words)))\n",
    "\n",
    "print(list(map(str.title,words)))\n",
    "print(list(map(str.isalpha,words)))"
   ]
  },
  {
   "cell_type": "code",
   "execution_count": null,
   "id": "0ba66a8d",
   "metadata": {},
   "outputs": [
    {
     "data": {
      "text/plain": [
       "['Madhava', 'ai']"
      ]
     },
     "execution_count": 21,
     "metadata": {},
     "output_type": "execute_result"
    }
   ],
   "source": [
    "def get_name(person):\n",
    "  return person['name']\n",
    "\n",
    "people = [\n",
    "  {'name':'Madhava','age':22},\n",
    "  {'name':'ai','age':3}\n",
    "]\n",
    "\n",
    "list(map(get_name,people))"
   ]
  },
  {
   "cell_type": "code",
   "execution_count": null,
   "id": "7309ab1a",
   "metadata": {},
   "outputs": [],
   "source": []
  }
 ],
 "metadata": {
  "kernelspec": {
   "display_name": "dsavenv",
   "language": "python",
   "name": "python3"
  },
  "language_info": {
   "codemirror_mode": {
    "name": "ipython",
    "version": 3
   },
   "file_extension": ".py",
   "mimetype": "text/x-python",
   "name": "python",
   "nbconvert_exporter": "python",
   "pygments_lexer": "ipython3",
   "version": "3.13.5"
  }
 },
 "nbformat": 4,
 "nbformat_minor": 5
}
