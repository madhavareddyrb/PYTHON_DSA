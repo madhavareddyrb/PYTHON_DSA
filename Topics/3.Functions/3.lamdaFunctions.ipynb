{
 "cells": [
  {
   "cell_type": "markdown",
   "id": "a324180d",
   "metadata": {},
   "source": [
    "## Lambda Functions: lambda functions are small anonymous functions defind using the lambda keyword.\n",
    "they can have any number of arguments but only one expression.They are commonly used for short operations or as arguments to higher-order functions.\n"
   ]
  },
  {
   "cell_type": "code",
   "execution_count": null,
   "id": "12df1c97",
   "metadata": {},
   "outputs": [],
   "source": [
    "## Syntax\n",
    "lambda arguments: expression \n",
    "arguments = variables\n",
    "expression = what to do like a+b,a-b and more"
   ]
  },
  {
   "cell_type": "code",
   "execution_count": 1,
   "id": "53ecc233",
   "metadata": {},
   "outputs": [
    {
     "data": {
      "text/plain": [
       "4"
      ]
     },
     "execution_count": 1,
     "metadata": {},
     "output_type": "execute_result"
    }
   ],
   "source": [
    "def add(a,b):\n",
    "  return a+b\n",
    "\n",
    "add(1,3)"
   ]
  },
  {
   "cell_type": "code",
   "execution_count": 3,
   "id": "9923ed54",
   "metadata": {},
   "outputs": [
    {
     "name": "stdout",
     "output_type": "stream",
     "text": [
      "<class 'function'>\n",
      "6\n"
     ]
    }
   ],
   "source": [
    "addition = lambda a,b : a+b\n",
    "print(type(addition))\n",
    "print(addition(2,4))"
   ]
  },
  {
   "cell_type": "code",
   "execution_count": 4,
   "id": "68d9eea0",
   "metadata": {},
   "outputs": [
    {
     "data": {
      "text/plain": [
       "'Even'"
      ]
     },
     "execution_count": 4,
     "metadata": {},
     "output_type": "execute_result"
    }
   ],
   "source": [
    "def even_or_odd(num):\n",
    "  if num % 2 == 0:\n",
    "    return 'Even'\n",
    "  else:\n",
    "    return 'Odd'\n",
    "  \n",
    "even_or_odd(10)"
   ]
  },
  {
   "cell_type": "code",
   "execution_count": 13,
   "id": "32af408a",
   "metadata": {},
   "outputs": [
    {
     "data": {
      "text/plain": [
       "'Even'"
      ]
     },
     "execution_count": 13,
     "metadata": {},
     "output_type": "execute_result"
    }
   ],
   "source": [
    "even_odd = lambda num :'Even' if num % 2 == 0 else 'Odd'\n",
    "even_odd(10)"
   ]
  },
  {
   "cell_type": "code",
   "execution_count": 14,
   "id": "9d4b6c2d",
   "metadata": {},
   "outputs": [
    {
     "data": {
      "text/plain": [
       "6"
      ]
     },
     "execution_count": 14,
     "metadata": {},
     "output_type": "execute_result"
    }
   ],
   "source": [
    "def addition(x,y,z):\n",
    "  return x+y+z\n",
    "\n",
    "addition(1,2,3)"
   ]
  },
  {
   "cell_type": "code",
   "execution_count": 15,
   "id": "1ccfe0a1",
   "metadata": {},
   "outputs": [
    {
     "data": {
      "text/plain": [
       "6"
      ]
     },
     "execution_count": 15,
     "metadata": {},
     "output_type": "execute_result"
    }
   ],
   "source": [
    "addition = lambda x,y,z : x+y+z\n",
    "addition(1,2,3)"
   ]
  },
  {
   "cell_type": "code",
   "execution_count": 16,
   "id": "9380848c",
   "metadata": {},
   "outputs": [
    {
     "data": {
      "text/plain": [
       "9"
      ]
     },
     "execution_count": 16,
     "metadata": {},
     "output_type": "execute_result"
    }
   ],
   "source": [
    "## map() - applies a function to all items in a list\n",
    "\n",
    "numbers = [1,2,3,4,5,6]\n",
    "def square(number):\n",
    "  return number ** 2\n",
    "\n",
    "square(3)"
   ]
  },
  {
   "cell_type": "code",
   "execution_count": 18,
   "id": "b3978100",
   "metadata": {},
   "outputs": [
    {
     "data": {
      "text/plain": [
       "[1, 4, 9, 16, 25, 36]"
      ]
     },
     "execution_count": 18,
     "metadata": {},
     "output_type": "execute_result"
    }
   ],
   "source": [
    "list(map(lambda num : num ** 2 , numbers))"
   ]
  },
  {
   "cell_type": "code",
   "execution_count": 20,
   "id": "23b8495c",
   "metadata": {},
   "outputs": [
    {
     "data": {
      "text/plain": [
       "[1, 4, 9, 16, 25, 36]"
      ]
     },
     "execution_count": 20,
     "metadata": {},
     "output_type": "execute_result"
    }
   ],
   "source": [
    "list(map(lambda num : num ** 2 , numbers))"
   ]
  },
  {
   "cell_type": "code",
   "execution_count": null,
   "id": "16a8e56a",
   "metadata": {},
   "outputs": [],
   "source": []
  }
 ],
 "metadata": {
  "kernelspec": {
   "display_name": "dsavenv",
   "language": "python",
   "name": "python3"
  },
  "language_info": {
   "codemirror_mode": {
    "name": "ipython",
    "version": 3
   },
   "file_extension": ".py",
   "mimetype": "text/x-python",
   "name": "python",
   "nbconvert_exporter": "python",
   "pygments_lexer": "ipython3",
   "version": "3.13.5"
  }
 },
 "nbformat": 4,
 "nbformat_minor": 5
}
