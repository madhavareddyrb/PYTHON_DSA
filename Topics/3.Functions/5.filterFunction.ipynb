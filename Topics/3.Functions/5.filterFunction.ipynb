{
 "cells": [
  {
   "cell_type": "markdown",
   "id": "a16d185e",
   "metadata": {},
   "source": [
    "#### The filter() Function in Python\n",
    "\n",
    "The filter() function constructs an iterator  from elements of an iterable for which a function returns true.It is used to filter out items from a list (or any other iterable) based on a condition."
   ]
  },
  {
   "cell_type": "code",
   "execution_count": 2,
   "id": "5551e4f6",
   "metadata": {},
   "outputs": [
    {
     "data": {
      "text/plain": [
       "True"
      ]
     },
     "execution_count": 2,
     "metadata": {},
     "output_type": "execute_result"
    }
   ],
   "source": [
    "def even(num):\n",
    "  if num % 2 == 0:\n",
    "    return True\n",
    "\n",
    "even(24)"
   ]
  },
  {
   "cell_type": "code",
   "execution_count": 3,
   "id": "2a8c691b",
   "metadata": {},
   "outputs": [
    {
     "data": {
      "text/plain": [
       "[2, 4, 6, 8]"
      ]
     },
     "execution_count": 3,
     "metadata": {},
     "output_type": "execute_result"
    }
   ],
   "source": [
    "lst = [1,2,3,4,5,6,7,8]\n",
    "list(filter(even,lst))"
   ]
  },
  {
   "cell_type": "code",
   "execution_count": 4,
   "id": "75fb7e56",
   "metadata": {},
   "outputs": [
    {
     "data": {
      "text/plain": [
       "[50, 56]"
      ]
     },
     "execution_count": 4,
     "metadata": {},
     "output_type": "execute_result"
    }
   ],
   "source": [
    "## Filter with lambda\n",
    "numbers = [10,20,30,50,11,2,4,56,8]\n",
    "list(filter(lambda x : x >= 40,numbers))"
   ]
  },
  {
   "cell_type": "code",
   "execution_count": 9,
   "id": "c471f9bd",
   "metadata": {},
   "outputs": [
    {
     "data": {
      "text/plain": [
       "[5, 6, 7, 8, 9]"
      ]
     },
     "execution_count": 9,
     "metadata": {},
     "output_type": "execute_result"
    }
   ],
   "source": [
    "## Filter with a lamda function and multiple conditions\n",
    "\n",
    "numbers = [1,2,3,4,5,6,7,8,9]\n",
    "list(filter(lambda x :x >= 5,numbers))"
   ]
  },
  {
   "cell_type": "code",
   "execution_count": 10,
   "id": "3a87efdb",
   "metadata": {},
   "outputs": [
    {
     "data": {
      "text/plain": [
       "[6, 8]"
      ]
     },
     "execution_count": 10,
     "metadata": {},
     "output_type": "execute_result"
    }
   ],
   "source": [
    "# Filter with a lambda function and multiple conditions\n",
    "list(filter(lambda x : x>5 and x%2==0,numbers))"
   ]
  },
  {
   "cell_type": "code",
   "execution_count": null,
   "id": "2c77a07e",
   "metadata": {},
   "outputs": [
    {
     "name": "stdout",
     "output_type": "stream",
     "text": [
      "[{'name': 'madhava', 'age': 27}]\n",
      "[{'name': 'madhava', 'age': 27}, {'name': 'Python', 'age': 22}]\n",
      "[{'name': 'madhava', 'age': 27}]\n"
     ]
    }
   ],
   "source": [
    "## Filter() to check if the age is great than 25 in dictionaries\n",
    "\n",
    "people = [\n",
    "  {'name':'madhava','age':27},\n",
    "  {'name':'Ai','age':4},\n",
    "  {'name':'Ai Agents','age':1}\n",
    "\n",
    "]\n",
    "\n",
    "def age_greater_than_25(people):\n",
    "  return [people for people in people if people['age'] > 25]\n",
    "\n",
    "print(age_greater_than_25(people))\n",
    "\n",
    "\n",
    "'''people = [\n",
    "  {'name':'madhava','age':27},\n",
    "  {'name':'Ai','age':4},\n",
    "  {'name':'Ai Agents','age':1},\n",
    "  {'name':'Python','age':22}\n",
    "]\n",
    "def age_greater_than_20(people):\n",
    "  return people['age'] > 20\n",
    "print(list(filter(age_greater_than_20,people)))\n",
    "print(list(filter(lambda x : x['age'] > 25,people)))'''\n"
   ]
  },
  {
   "cell_type": "code",
   "execution_count": 22,
   "id": "a2e7a945",
   "metadata": {},
   "outputs": [
    {
     "name": "stdout",
     "output_type": "stream",
     "text": [
      "[{'name': 'madhava', 'age': 27}, {'name': 'Python', 'age': 22}]\n"
     ]
    }
   ],
   "source": [
    "people = [\n",
    "  {'name':'madhava','age':27},\n",
    "  {'name':'Ai','age':4},\n",
    "  {'name':'Ai Agents','age':1},\n",
    "  {'name':'Python','age':22}\n",
    "\n",
    "]\n",
    "\n",
    "\n",
    "def age_greater_than_20(people):\n",
    "  return people['age'] > 20\n",
    "\n",
    "print(list(filter(age_greater_than_20,people)))"
   ]
  },
  {
   "cell_type": "code",
   "execution_count": 23,
   "id": "5d36b441",
   "metadata": {},
   "outputs": [
    {
     "name": "stdout",
     "output_type": "stream",
     "text": [
      "[{'name': 'madhava', 'age': 27}, {'name': 'Python', 'age': 22}]\n"
     ]
    }
   ],
   "source": [
    "print(list(filter(lambda x : x['age'] > 20,people)))"
   ]
  },
  {
   "cell_type": "code",
   "execution_count": null,
   "id": "c699981c",
   "metadata": {},
   "outputs": [],
   "source": []
  }
 ],
 "metadata": {
  "kernelspec": {
   "display_name": "dsavenv",
   "language": "python",
   "name": "python3"
  },
  "language_info": {
   "codemirror_mode": {
    "name": "ipython",
    "version": 3
   },
   "file_extension": ".py",
   "mimetype": "text/x-python",
   "name": "python",
   "nbconvert_exporter": "python",
   "pygments_lexer": "ipython3",
   "version": "3.13.5"
  }
 },
 "nbformat": 4,
 "nbformat_minor": 5
}
