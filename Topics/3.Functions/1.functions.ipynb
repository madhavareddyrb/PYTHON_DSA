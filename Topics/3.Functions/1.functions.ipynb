{
 "cells": [
  {
   "cell_type": "markdown",
   "id": "cfced58e",
   "metadata": {},
   "source": [
    "### Functions\n",
    "function is a block of code that performs a specific task.\n",
    "Functions help in organizing code and resuing code and improve readability using that function name\n",
    "Syntax:\n",
    "\n",
    "def functionname(parameters):\n",
    "  'Doc string' #what is main task of function\n",
    "  function body\n",
    "  return expression # what to return at end like ouput"
   ]
  },
  {
   "cell_type": "code",
   "execution_count": 16,
   "id": "2accf6bb",
   "metadata": {},
   "outputs": [
    {
     "name": "stdout",
     "output_type": "stream",
     "text": [
      "zero\n"
     ]
    }
   ],
   "source": [
    "#single parameter\n",
    "\n",
    "def even_or_odd(num):\n",
    "  \"\"\"This function finds whether a number is even or odd and zero is not even or odd\"\"\"\n",
    "  if num == 0:\n",
    "    return 'zero'\n",
    "  elif num % 2 == 0:\n",
    "    return 'even'\n",
    "  else :\n",
    "    return 'odd'\n",
    "\n",
    "num = 0\n",
    "print(even_or_odd(num))"
   ]
  },
  {
   "cell_type": "code",
   "execution_count": 17,
   "id": "c6d83f84",
   "metadata": {},
   "outputs": [
    {
     "name": "stdout",
     "output_type": "stream",
     "text": [
      "60\n"
     ]
    }
   ],
   "source": [
    "## multiple parameter\n",
    "\n",
    "def addition(a,b,c):\n",
    "  \"\"\"This function adds 3 values\"\"\"\n",
    "  return a+b+c\n",
    "\n",
    "result = addition(10,20,30)\n",
    "print(result)"
   ]
  },
  {
   "cell_type": "code",
   "execution_count": null,
   "id": "d2c0e71f",
   "metadata": {},
   "outputs": [
    {
     "name": "stdout",
     "output_type": "stream",
     "text": [
      "good morning Guest\n",
      "good morning madhava\n"
     ]
    }
   ],
   "source": [
    "# defaut parameter\n",
    "def greet(name):\n",
    "  return f'good morning {name}'\n",
    "print(greet(name=\"Guest\")) \n",
    "print(greet('madhava')) # changing to default"
   ]
  },
  {
   "cell_type": "code",
   "execution_count": null,
   "id": "c8108bff",
   "metadata": {},
   "outputs": [
    {
     "name": "stdout",
     "output_type": "stream",
     "text": [
      "1\n",
      "2\n",
      "3\n",
      "4\n",
      "5\n",
      "madhava\n"
     ]
    }
   ],
   "source": [
    "### Variable length Arguments(Positional and keywords arguments)\n",
    "## positional Argunets: If we want to pass so many parameter or argumnets like (num,a,b,c) for these we use positional arguments (*args)\n",
    "\n",
    "def print_numbers(*args): # we can use any name instand of args like names , numbers etc but args is industry standard\n",
    "  for number in args:\n",
    "    print(number)\n",
    "print_numbers(1,2,3,4,5,'madhava')"
   ]
  },
  {
   "cell_type": "code",
   "execution_count": null,
   "id": "2ea99eda",
   "metadata": {},
   "outputs": [
    {
     "name": "stdout",
     "output_type": "stream",
     "text": [
      "name : madhava\n",
      "age : 22\n",
      "country : india\n"
     ]
    }
   ],
   "source": [
    "#Keyword arguments: All the parameters in like key-pair values like dictionaries\n",
    "\n",
    "def details(**kwargs): # we can use any name instand of kwargs like names , numbers etc but args is industry standard\n",
    "  for key,value in kwargs.items():\n",
    "    print(f\"{key} : {value}\")\n",
    "\n",
    "details(name='madhava', age=22, country='india')"
   ]
  },
  {
   "cell_type": "code",
   "execution_count": null,
   "id": "b18156c9",
   "metadata": {},
   "outputs": [
    {
     "name": "stdout",
     "output_type": "stream",
     "text": [
      "1\n",
      "2\n",
      "3\n",
      "4\n",
      "madhava\n",
      "name : madhava\n",
      "age : 32\n"
     ]
    }
   ],
   "source": [
    "## combineing both\n",
    "\n",
    "def details_of_both(*args,**kwargs):\n",
    "  for val in args:\n",
    "    print(val)\n",
    "  for key,value in kwargs.items():\n",
    "    print(f\"{key} : {value}\")\n",
    "\n",
    "details_of_both(1,2,3,4,'madhava',name='madhava',age=32) # after kwargs values it is not possible to args values again"
   ]
  },
  {
   "cell_type": "code",
   "execution_count": null,
   "id": "327acf03",
   "metadata": {},
   "outputs": [],
   "source": []
  }
 ],
 "metadata": {
  "kernelspec": {
   "display_name": "dsavenv",
   "language": "python",
   "name": "python3"
  },
  "language_info": {
   "codemirror_mode": {
    "name": "ipython",
    "version": 3
   },
   "file_extension": ".py",
   "mimetype": "text/x-python",
   "name": "python",
   "nbconvert_exporter": "python",
   "pygments_lexer": "ipython3",
   "version": "3.13.5"
  }
 },
 "nbformat": 4,
 "nbformat_minor": 5
}
