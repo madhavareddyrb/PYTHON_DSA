{
 "cells": [
  {
   "cell_type": "markdown",
   "id": "d21d5872",
   "metadata": {},
   "source": [
    "We are going to explore some examples here to understand functions more\n"
   ]
  },
  {
   "cell_type": "code",
   "execution_count": 10,
   "id": "8b038bf2",
   "metadata": {},
   "outputs": [
    {
     "name": "stdout",
     "output_type": "stream",
     "text": [
      "77.0\n",
      "23.88888888888889\n"
     ]
    }
   ],
   "source": [
    "#1.Temprature Conversion\n",
    "\n",
    "def convert_temprature(temp,unit):\n",
    "  if unit == \"C\":\n",
    "    return (temp * 9/5) + 32 # celsius to fahrenheit\n",
    "\n",
    "  if unit == \"F\":\n",
    "    return (temp - 32 )* 5/9 # Fahrenheit to celsius\n",
    "\n",
    "  else:\n",
    "    return None\n",
    "\n",
    "print(convert_temprature(25,'C'))\n",
    "print(convert_temprature(75,'F'))\n"
   ]
  },
  {
   "cell_type": "code",
   "execution_count": 15,
   "id": "deb3100d",
   "metadata": {},
   "outputs": [
    {
     "name": "stdout",
     "output_type": "stream",
     "text": [
      "False\n",
      "False\n",
      "True\n"
     ]
    }
   ],
   "source": [
    "# Password strength checker\n",
    "\n",
    "def password_checker(password):\n",
    "  if len(password) < 8:\n",
    "    return False\n",
    "  elif not any (char.isdigit() for char in password):\n",
    "    return False\n",
    "  elif not any (char.islower() for char in password):\n",
    "    return False\n",
    "  elif not any (char.isupper() for char in password):\n",
    "    return False\n",
    "  elif not any (char in '!@#$%^&*()_+' for char in password):\n",
    "    return False\n",
    "  return True\n",
    "\n",
    "print(password_checker(\"weakpwd1\"))  # special characters not there\n",
    "print(password_checker('123Name')) # lessthan 8\n",
    "print(password_checker(\"weakpwdW!#5\")) #all included\n"
   ]
  },
  {
   "cell_type": "code",
   "execution_count": 27,
   "id": "716654a8",
   "metadata": {},
   "outputs": [
    {
     "name": "stdout",
     "output_type": "stream",
     "text": [
      "90\n"
     ]
    }
   ],
   "source": [
    "#3.calculate the tptal cost of items in a shopping cart\n",
    "\n",
    "def calculate(cart):\n",
    "  total = 0\n",
    "  for item in cart:\n",
    "    total += item['cost'] * item['quantity']\n",
    "  return total\n",
    "\n",
    "cart = [\n",
    "  {'name':'apple','cost':10,'quantity':4},\n",
    "  {'name':'banana','cost': 10,'quantity':5}\n",
    "]\n",
    "total = calculate(cart)\n",
    "print(total)\n"
   ]
  },
  {
   "cell_type": "code",
   "execution_count": 31,
   "id": "09a2d7e2",
   "metadata": {},
   "outputs": [
    {
     "name": "stdout",
     "output_type": "stream",
     "text": [
      "True\n",
      "False\n"
     ]
    }
   ],
   "source": [
    "#4.Palindrome checker\n",
    "\n",
    "def is_palindrome(s):\n",
    "  if s == s.lower().replace(\" \",\"\"):\n",
    "    return s == s[::-1]\n",
    "  return False\n",
    "  \n",
    "print(is_palindrome('madam'))\n",
    "print(is_palindrome('ace'))\n"
   ]
  },
  {
   "cell_type": "code",
   "execution_count": 33,
   "id": "255ae01e",
   "metadata": {},
   "outputs": [
    {
     "name": "stdout",
     "output_type": "stream",
     "text": [
      "120\n"
     ]
    }
   ],
   "source": [
    "#5.Factorial of a number using recursion\n",
    "\n",
    "def factorial(n):\n",
    "  if n == 0:\n",
    "    return 1\n",
    "  else:\n",
    "    return n * factorial(n-1) # recursion is a function call about function\n",
    "\n",
    "print(factorial(5))\n"
   ]
  },
  {
   "cell_type": "code",
   "execution_count": null,
   "id": "efcdc620",
   "metadata": {},
   "outputs": [],
   "source": [
    "#6.A function to read a file and count frequency of a each word\n"
   ]
  }
 ],
 "metadata": {
  "kernelspec": {
   "display_name": "dsavenv",
   "language": "python",
   "name": "python3"
  },
  "language_info": {
   "codemirror_mode": {
    "name": "ipython",
    "version": 3
   },
   "file_extension": ".py",
   "mimetype": "text/x-python",
   "name": "python",
   "nbconvert_exporter": "python",
   "pygments_lexer": "ipython3",
   "version": "3.13.5"
  }
 },
 "nbformat": 4,
 "nbformat_minor": 5
}
