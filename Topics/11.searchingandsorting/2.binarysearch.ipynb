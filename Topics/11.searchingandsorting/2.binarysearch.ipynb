{
 "cells": [
  {
   "cell_type": "code",
   "execution_count": 13,
   "id": "02f1adf9",
   "metadata": {},
   "outputs": [
    {
     "name": "stdout",
     "output_type": "stream",
     "text": [
      "[1, 2, 3, 4, 5, 6]\n",
      "5\n"
     ]
    }
   ],
   "source": [
    "def binary_search(arr,target):\n",
    "  size = len(arr)\n",
    "  start = 0\n",
    "  end = size-1\n",
    "  print(arr)\n",
    "  while start <= end:\n",
    "    middle = (start+end)//2\n",
    "    if not arr:\n",
    "      return -1\n",
    "    elif (arr[middle] == target):\n",
    "      return middle\n",
    "    elif arr[middle] < target:\n",
    "      start = middle+1\n",
    "    elif arr[middle] > target:\n",
    "      end = middle-1\n",
    "    \n",
    "  return -1\n",
    "\n",
    "mylst = [1,2,3,4,5,6]\n",
    "target = 6\n",
    "result = binary_search(mylst,target)\n",
    "print(result)"
   ]
  },
  {
   "cell_type": "markdown",
   "id": "7b2daaa5",
   "metadata": {},
   "source": [
    "#### 1.Count negative numbers in a sorted matrix\n",
    "Asked in companies:Samsung,Oyo,Groww,Dell\n",
    "Description:You are given an m x n matrix grid where each row and column is sorted in non-increasing order. Your task is to return the number of negative numbers present in the matrix.\n",
    "Parameters:\n",
    "grid (List[List[int]]): A 2D matrix with dimensions m x n, where each row and each column is sorted in non-increasing order.\n",
    "Return Values:\n",
    "Integer: The count of negative numbers in the matrix.\n",
    "Example:\n",
    "Input: grid = [[4, 3, 2, 1], [3, 2, 1, -1], [1, 1, -1, -2], [-1, -1, -2, -3]] \n",
    "Output: 7 \n",
    "Explanation: There are 7 negative numbers in the matrix."
   ]
  },
  {
   "cell_type": "code",
   "execution_count": 14,
   "id": "8f9b3ba4",
   "metadata": {},
   "outputs": [
    {
     "data": {
      "text/plain": [
       "7"
      ]
     },
     "execution_count": 14,
     "metadata": {},
     "output_type": "execute_result"
    }
   ],
   "source": [
    "def countNegative(grid):\n",
    "  count = 0\n",
    "  for i in range(len(grid)):\n",
    "    #print(i)\n",
    "    for innerindex in range(0,len(grid[i])):\n",
    "      #print(grid[i][innerindex])\n",
    "      if grid[i][innerindex] < 0:\n",
    "        count += 1\n",
    "  return count\n",
    "\n",
    "grid = [[4,3,2,1],[3,2,1,-1],[1,1,-1,-2],[-1,-1,-2,-3]]\n",
    "\n",
    "countNegative(grid)"
   ]
  },
  {
   "cell_type": "code",
   "execution_count": 15,
   "id": "8b604e4f",
   "metadata": {},
   "outputs": [
    {
     "data": {
      "text/plain": [
       "0"
      ]
     },
     "execution_count": 15,
     "metadata": {},
     "output_type": "execute_result"
    }
   ],
   "source": [
    "gri = [[4,0],[2,1]]\n",
    "countNegative(gri)"
   ]
  },
  {
   "cell_type": "code",
   "execution_count": 16,
   "id": "0513f490",
   "metadata": {},
   "outputs": [
    {
     "data": {
      "text/plain": [
       "'c'"
      ]
     },
     "execution_count": 16,
     "metadata": {},
     "output_type": "execute_result"
    }
   ],
   "source": [
    "#3- 22-07-2025\n",
    "def charlarge(letters,target):\n",
    "  start,end = 0, len(letters)\n",
    "  while start < end :\n",
    "    mid = (start+end) // 2\n",
    "    if letters[mid] == target:\n",
    "      return letters[mid+1]\n",
    "    elif letters[mid] < target:\n",
    "      start = mid + 1\n",
    "    elif letters[mid] > target:\n",
    "      end =  mid\n",
    "  \n",
    "  return letters[0]\n",
    "\n",
    "\n",
    "letters = ['c','f','j']\n",
    "target = 'k'\n",
    "charlarge(letters,target)"
   ]
  },
  {
   "cell_type": "code",
   "execution_count": 17,
   "id": "a28ab703",
   "metadata": {},
   "outputs": [
    {
     "data": {
      "text/plain": [
       "97"
      ]
     },
     "execution_count": 17,
     "metadata": {},
     "output_type": "execute_result"
    }
   ],
   "source": [
    "ord('a')"
   ]
  },
  {
   "cell_type": "code",
   "execution_count": 18,
   "id": "22b4bf83",
   "metadata": {},
   "outputs": [
    {
     "data": {
      "text/plain": [
       "[0, 0]"
      ]
     },
     "execution_count": 18,
     "metadata": {},
     "output_type": "execute_result"
    }
   ],
   "source": [
    "def firstLastPosition(nums,target):\n",
    "  # search from 0 to end so o,len(nums)\n",
    "  first = 0\n",
    "  last = len(nums)\n",
    "  positions = []\n",
    "  if target not in nums:\n",
    "    return [-1,-1]\n",
    "  while first < last :\n",
    "    mid = (first+last) // 2\n",
    "    if nums[mid] == target:\n",
    "      positions.append(mid)\n",
    "      if target==nums[mid+1]:\n",
    "        positions.append(mid+1)\n",
    "      else:\n",
    "        positions.append(mid)\n",
    "\n",
    "      return positions\n",
    "    elif nums[mid] > target:\n",
    "      last = mid\n",
    "    else:\n",
    "      first = mid +1\n",
    "\n",
    "nums = [5,7,7,8,8,10]\n",
    "target = 5\n",
    "firstLastPosition(nums,target)"
   ]
  },
  {
   "cell_type": "code",
   "execution_count": 19,
   "metadata": {},
   "outputs": [
    {
     "data": {
      "text/plain": [
       "[3, 4]"
      ]
     },
     "execution_count": 19,
     "metadata": {},
     "output_type": "execute_result"
    }
   ],
   "source": [
    "# same above problem\n",
    "def firstLastPosition(nums,target):\n",
    "    first = 0\n",
    "    last = len(nums)\n",
    "    positions = []\n",
    "    if target not in nums:\n",
    "        return [-1,-1]\n",
    "    while first < last:\n",
    "        middle = (first+last)//2\n",
    "        if nums[middle] == target:\n",
    "            positions.append(middle)\n",
    "            if target == nums[-1]:\n",
    "                positions.append(middle)\n",
    "            elif target == nums[middle+1]:\n",
    "                positions.append(middle+1)\n",
    "            else:\n",
    "                positions.append(middle)\n",
    "            return positions\n",
    "        elif nums[middle] > target:\n",
    "            last = middle\n",
    "        else:\n",
    "            first = middle+1\n",
    "nums = [5,7,7,8,8,10]\n",
    "target = 8\n",
    "firstLastPosition(nums,target)\n",
    "\n",
    "# still one test case pending multiplue targets"
   ]
  },
  {
   "cell_type": "code",
   "execution_count": 20,
   "metadata": {},
   "outputs": [
    {
     "name": "stdout",
     "output_type": "stream",
     "text": [
      "2\n"
     ]
    }
   ],
   "source": [
    "print(2 % 3)"
   ]
  },
  {
   "cell_type": "code",
   "execution_count": 21,
   "id": "a78b7065",
   "metadata": {},
   "outputs": [
    {
     "data": {
      "text/plain": [
       "[5, 5]"
      ]
     },
     "execution_count": 21,
     "metadata": {},
     "output_type": "execute_result"
    }
   ],
   "source": [
    "#23-07-2025-Find fisr and last occurence of target\n",
    "\n",
    "def searchRange(nums,target):\n",
    "  def findFirst(nums,target):\n",
    "    left,right = 0,len(nums)-1\n",
    "    result = -1\n",
    "    while left <= right:\n",
    "        mid = (right+left) // 2\n",
    "        if nums[mid] == target:\n",
    "            result = mid\n",
    "            right = mid-1\n",
    "        elif nums[mid] > target:\n",
    "            right = mid-1\n",
    "        else:\n",
    "            left = mid+1\n",
    "\n",
    "    return result\n",
    "        \n",
    "  def findlast(nums,target):\n",
    "    left,right = 0,len(nums)-1\n",
    "    result = -1\n",
    "    while left <= right:\n",
    "      mid = (right+left)//2\n",
    "      if nums[mid] == target:\n",
    "        result = mid\n",
    "        left = mid+1\n",
    "      elif nums[mid] > target:\n",
    "        right = mid-1\n",
    "      else:\n",
    "        left = mid+1\n",
    "    return result\n",
    "          \n",
    "            \n",
    "  first = findFirst(nums,target)\n",
    "  last = findlast(nums,target)\n",
    "  return [first,last]\n",
    "\n",
    "nums = [5,7,7,8,8,10]\n",
    "\n",
    "target = 10\n",
    "searchRange(nums,target)"
   ]
  },
  {
   "cell_type": "code",
   "execution_count": 22,
   "id": "a530410f",
   "metadata": {},
   "outputs": [
    {
     "data": {
      "text/plain": [
       "1"
      ]
     },
     "execution_count": 22,
     "metadata": {},
     "output_type": "execute_result"
    }
   ],
   "source": [
    "#23-07-2025 minimum in roated sorted array\n",
    "#new = (sorted(nums))\n",
    "#print(new[0])\n",
    "def minimu(nums):\n",
    "  \n",
    "  left,right = 0,len(nums)-1\n",
    "  while left <= right:\n",
    "    mid = left + (right-left)//2\n",
    "    if nums[left]<nums[right]:\n",
    "      return nums[left]\n",
    "    elif nums[mid] >= nums[left]:\n",
    "      right = mid+1\n",
    "    if nums[mid] <= nums[right]:\n",
    "      left = mid-1\n",
    "  \n",
    "nums = [1,2,3,4,5]\n",
    "minimu(nums)"
   ]
  },
  {
   "cell_type": "code",
   "execution_count": 23,
   "id": "8e41f171",
   "metadata": {},
   "outputs": [
    {
     "data": {
      "text/plain": [
       "-1"
      ]
     },
     "execution_count": 23,
     "metadata": {},
     "output_type": "execute_result"
    }
   ],
   "source": [
    "#24-07-2025-Search In rotated sorted array given nums,target find index of target,if not found return -1\n",
    "def search(nums,target):\n",
    "  left,right = 0,len(nums)-1\n",
    "  while left<=right:\n",
    "    mid = left + (right-left)//2\n",
    "    if nums[mid] == target:\n",
    "      return mid\n",
    "    elif nums[mid] > nums[right]:\n",
    "      left = mid+1\n",
    "    else:\n",
    "      right = mid\n",
    "  return -1\n",
    "\n",
    "nums = [] \n",
    "target = 0\n",
    "\n",
    "search(nums,target)\n"
   ]
  },
  {
   "cell_type": "code",
   "execution_count": 24,
   "id": "80d0cf5f",
   "metadata": {},
   "outputs": [
    {
     "data": {
      "text/plain": [
       "4"
      ]
     },
     "execution_count": 24,
     "metadata": {},
     "output_type": "execute_result"
    }
   ],
   "source": [
    "#24-07-2025-Search In rotated sorted array given nums,target find index of target,if not found return -1\n",
    "\n",
    "def searchBinary(nums,target):\n",
    "  left,right = 0,len(nums)-1\n",
    "  while left <= right :\n",
    "    mid = left + (right-left) // 2\n",
    "    if nums[mid] == target:\n",
    "      return mid\n",
    "    if nums[left] <= nums[mid]:\n",
    "      if nums[left] <= target < nums[mid]:\n",
    "        right = mid-1\n",
    "      else:\n",
    "        left = mid+1\n",
    "    else:\n",
    "        if nums[mid] < target <= nums[right]:\n",
    "          left = mid + 1\n",
    "        else:\n",
    "          right = mid-1\n",
    "\n",
    "  return -1\n",
    "nums = [10,15,16,20,0,1,2,9]\n",
    "target = 0\n",
    "\n",
    "searchBinary(nums,target)\n"
   ]
  },
  {
   "cell_type": "code",
   "execution_count": null,
   "id": "3da44806",
   "metadata": {},
   "outputs": [],
   "source": []
  }
 ],
 "metadata": {
  "kernelspec": {
   "display_name": "dsavenv (3.13.5)",
   "language": "python",
   "name": "python3"
  },
  "language_info": {
   "codemirror_mode": {
    "name": "ipython",
    "version": 3
   },
   "file_extension": ".py",
   "mimetype": "text/x-python",
   "name": "python",
   "nbconvert_exporter": "python",
   "pygments_lexer": "ipython3",
   "version": "3.13.5"
  }
 },
 "nbformat": 4,
 "nbformat_minor": 5
}
