{
 "cells": [
  {
   "cell_type": "code",
   "execution_count": 2,
   "id": "fbbb9501",
   "metadata": {},
   "outputs": [
    {
     "name": "stdout",
     "output_type": "stream",
     "text": [
      "[52, 62, 72, 82, 94]\n"
     ]
    }
   ],
   "source": [
    "def bubble_sort(arr):\n",
    "  size = len(arr)\n",
    "  for passes in range(0,size):\n",
    "    for j in range(0,size-1-passes):\n",
    "      if arr[j] > arr[j+1]:\n",
    "        arr[j],arr[j+1] = arr[j+1],arr[j]\n",
    "  return arr\n",
    "\n",
    "mylist = [52,72,94,82,62]\n",
    "print(bubble_sort(mylist))"
   ]
  },
  {
   "cell_type": "code",
   "execution_count": null,
   "id": "b4c09235",
   "metadata": {},
   "outputs": [],
   "source": []
  }
 ],
 "metadata": {
  "kernelspec": {
   "display_name": "dsavenv (3.13.5)",
   "language": "python",
   "name": "python3"
  },
  "language_info": {
   "codemirror_mode": {
    "name": "ipython",
    "version": 3
   },
   "file_extension": ".py",
   "mimetype": "text/x-python",
   "name": "python",
   "nbconvert_exporter": "python",
   "pygments_lexer": "ipython3",
   "version": "3.13.5"
  }
 },
 "nbformat": 4,
 "nbformat_minor": 5
}
