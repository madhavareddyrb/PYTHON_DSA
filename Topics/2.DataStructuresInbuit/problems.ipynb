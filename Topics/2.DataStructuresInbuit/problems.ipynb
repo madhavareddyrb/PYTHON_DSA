{
 "cells": [
  {
   "cell_type": "code",
   "execution_count": 23,
   "id": "bd2613c7",
   "metadata": {},
   "outputs": [
    {
     "name": "stdout",
     "output_type": "stream",
     "text": [
      "[20, 30, 40, 50, 10, 20]\n"
     ]
    }
   ],
   "source": [
    "def rotate(lst,k):\n",
    "  result = []\n",
    "  for i in range(k):\n",
    "    remove_num = lst[]\n",
    "\n",
    "lst = [10,20,30,40,50]\n",
    "k  = 2\n",
    "result = rotate(lst,k)\n",
    "print(result)"
   ]
  },
  {
   "cell_type": "code",
   "execution_count": null,
   "id": "21f001f4",
   "metadata": {},
   "outputs": [],
   "source": []
  }
 ],
 "metadata": {
  "kernelspec": {
   "display_name": "venv",
   "language": "python",
   "name": "python3"
  },
  "language_info": {
   "codemirror_mode": {
    "name": "ipython",
    "version": 3
   },
   "file_extension": ".py",
   "mimetype": "text/x-python",
   "name": "python",
   "nbconvert_exporter": "python",
   "pygments_lexer": "ipython3",
   "version": "3.13.4"
  }
 },
 "nbformat": 4,
 "nbformat_minor": 5
}
