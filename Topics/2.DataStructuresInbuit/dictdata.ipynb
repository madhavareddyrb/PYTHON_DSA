{
 "cells": [
  {
   "cell_type": "markdown",
   "id": "5f196453",
   "metadata": {},
   "source": [
    "dict data structure"
   ]
  },
  {
   "cell_type": "code",
   "execution_count": null,
   "id": "f848c678",
   "metadata": {},
   "outputs": [
    {
     "name": "stdout",
     "output_type": "stream",
     "text": [
      "{'name': 'sai', 'salary': 10000, 'company': 'TCS'}\n"
     ]
    },
    {
     "data": {
      "text/plain": [
       "dict"
      ]
     },
     "execution_count": 1,
     "metadata": {},
     "output_type": "execute_result"
    }
   ],
   "source": [
    "#key value paris enclosed by {} and {key:value} and we can perform CURD opeartions\n",
    "emp = {'name':'sai','salary':10000 , 'company':'TCS'}\n",
    "print(emp)\n",
    "type(emp)"
   ]
  },
  {
   "cell_type": "code",
   "execution_count": 3,
   "id": "74935c9c",
   "metadata": {},
   "outputs": [
    {
     "name": "stdout",
     "output_type": "stream",
     "text": [
      "{'name': 'madhava', 'salary': 1000, 'company': 'tcs'}\n"
     ]
    }
   ],
   "source": [
    "#dict doesn't allow duplicate pairs\n",
    "employeeadata = { 'name' : 'madhava', 'salary':1000 , 'company': 'tcs', 'salary': 1000}\n",
    "print(employeeadata)"
   ]
  },
  {
   "cell_type": "markdown",
   "id": "2fe7076c",
   "metadata": {},
   "source": [
    "##"
   ]
  },
  {
   "cell_type": "code",
   "execution_count": null,
   "id": "070322e6",
   "metadata": {},
   "outputs": [
    {
     "name": "stdout",
     "output_type": "stream",
     "text": [
      "{'name': 'madhava', 'salary': 10, 'company': 'tcs'}\n"
     ]
    }
   ],
   "source": [
    "# see the differnce now declearing last pair takes has input\n",
    "employeeadata = { 'name' : 'madhava', 'salary':1000 , 'company': 'tcs', 'salary': 10}\n",
    "print(employeeadata)"
   ]
  },
  {
   "cell_type": "code",
   "execution_count": 5,
   "id": "11025199",
   "metadata": {},
   "outputs": [
    {
     "name": "stdout",
     "output_type": "stream",
     "text": [
      "{'name': 'madhava', 'salary': 3000, 'company': 'tcs'}\n"
     ]
    }
   ],
   "source": [
    "#doesn't allow duplicate keys\n",
    "employeeadata = { 'name' : 'madhava', 'salary':1000 , 'company': 'tcs', 'salary': 3000}\n",
    "print(employeeadata)"
   ]
  },
  {
   "cell_type": "code",
   "execution_count": 6,
   "id": "2f4b57d1",
   "metadata": {},
   "outputs": [
    {
     "name": "stdout",
     "output_type": "stream",
     "text": [
      "{'name': 'madhava', 'salary': 1000, 'company': 'tcs', 'bonus': 1000}\n"
     ]
    }
   ],
   "source": [
    "#Dict allows duplicate values\n",
    "employeeadata = { 'name' : 'madhava', 'salary':1000 , 'company': 'tcs', 'bonus': 1000}\n",
    "print(employeeadata)"
   ]
  },
  {
   "cell_type": "code",
   "execution_count": 7,
   "id": "87722f0e",
   "metadata": {},
   "outputs": [
    {
     "name": "stdout",
     "output_type": "stream",
     "text": [
      "{'name': 'Apple', 'cost': 200, 'pickup': 'hyderbad'}\n"
     ]
    }
   ],
   "source": [
    "#CURD opeartions using dict\n",
    "#creating\n",
    "fruits = {'name':'Apple','cost':200, 'pickup': 'hyderbad'}\n",
    "print(fruits)"
   ]
  },
  {
   "cell_type": "code",
   "execution_count": 8,
   "id": "037544ac",
   "metadata": {},
   "outputs": [
    {
     "name": "stdout",
     "output_type": "stream",
     "text": [
      "{'name': 'Apple', 'cost': 150, 'pickup': 'Chennai', 'drop': 'Banglore'}\n"
     ]
    }
   ],
   "source": [
    "#updating the value by specific key\n",
    "fruits['pickup'] = 'Chennai'\n",
    "fruits['cost'] = 150\n",
    "fruits['drop'] = 'Banglore' # if the key is not found it will create the key value pair\n",
    "print(fruits)"
   ]
  },
  {
   "cell_type": "code",
   "execution_count": 9,
   "id": "04b80522",
   "metadata": {},
   "outputs": [
    {
     "name": "stdout",
     "output_type": "stream",
     "text": [
      "Banglore\n",
      "150\n",
      "Apple\n",
      "Chennai\n"
     ]
    }
   ],
   "source": [
    "#retrive--> Getting data from dict using key\n",
    "print(fruits['drop'])\n",
    "print(fruits['cost'])\n",
    "print(fruits.get('name'))\n",
    "print(fruits.get('pickup'))"
   ]
  },
  {
   "cell_type": "code",
   "execution_count": 10,
   "id": "5faaa993",
   "metadata": {},
   "outputs": [
    {
     "name": "stdout",
     "output_type": "stream",
     "text": [
      "150\n",
      "{'name': 'Apple', 'pickup': 'Chennai', 'drop': 'Banglore'}\n",
      "{'pickup': 'Chennai', 'drop': 'Banglore'}\n"
     ]
    }
   ],
   "source": [
    "#deleting--> deleting the pair from dict using pop()\n",
    "print(fruits.pop('cost'))\n",
    "print(fruits)\n",
    "del fruits['name']\n",
    "print(fruits)"
   ]
  },
  {
   "cell_type": "code",
   "execution_count": 11,
   "id": "599b68a8",
   "metadata": {},
   "outputs": [
    {
     "name": "stdout",
     "output_type": "stream",
     "text": [
      "{'pickup': 'Chennai'}\n"
     ]
    }
   ],
   "source": [
    "fruits.pop('drop')\n",
    "print(fruits)"
   ]
  },
  {
   "cell_type": "code",
   "execution_count": 12,
   "id": "5152a373",
   "metadata": {},
   "outputs": [
    {
     "data": {
      "text/plain": [
       "('pickup', 'Chennai')"
      ]
     },
     "execution_count": 12,
     "metadata": {},
     "output_type": "execute_result"
    }
   ],
   "source": [
    "##there is another method using popitem but it will delete only last pair no arguments required\n",
    "fruits.popitem()"
   ]
  },
  {
   "cell_type": "code",
   "execution_count": 13,
   "id": "6bf48fd4",
   "metadata": {},
   "outputs": [
    {
     "data": {
      "text/plain": [
       "{}"
      ]
     },
     "execution_count": 13,
     "metadata": {},
     "output_type": "execute_result"
    }
   ],
   "source": [
    "fruits"
   ]
  },
  {
   "cell_type": "code",
   "execution_count": 14,
   "id": "181bfcc6",
   "metadata": {},
   "outputs": [
    {
     "ename": "TypeError",
     "evalue": "dict.popitem() takes no arguments (1 given)",
     "output_type": "error",
     "traceback": [
      "\u001b[31m---------------------------------------------------------------------------\u001b[39m",
      "\u001b[31mTypeError\u001b[39m                                 Traceback (most recent call last)",
      "\u001b[36mCell\u001b[39m\u001b[36m \u001b[39m\u001b[32mIn[14]\u001b[39m\u001b[32m, line 1\u001b[39m\n\u001b[32m----> \u001b[39m\u001b[32m1\u001b[39m \u001b[43mfruits\u001b[49m\u001b[43m.\u001b[49m\u001b[43mpopitem\u001b[49m\u001b[43m(\u001b[49m\u001b[33;43m'\u001b[39;49m\u001b[33;43mname\u001b[39;49m\u001b[33;43m'\u001b[39;49m\u001b[43m)\u001b[49m\n",
      "\u001b[31mTypeError\u001b[39m: dict.popitem() takes no arguments (1 given)"
     ]
    }
   ],
   "source": [
    "fruits.popitem('name')"
   ]
  },
  {
   "cell_type": "code",
   "execution_count": null,
   "id": "77dfe5f1",
   "metadata": {},
   "outputs": [
    {
     "data": {
      "text/plain": [
       "{'name': 'madhava', 'age': 22, 'location': 'Hyderbad', 'salary': 0}"
      ]
     },
     "execution_count": 38,
     "metadata": {},
     "output_type": "execute_result"
    }
   ],
   "source": [
    "## dictionary functions: len(),keys(),values(),item(),update(),fromkeys(),\n",
    "details = { 'name':'madhava','age':22,'location':'Hyderbad','salary':00}\n",
    "details"
   ]
  },
  {
   "cell_type": "code",
   "execution_count": null,
   "id": "a9966cea",
   "metadata": {},
   "outputs": [
    {
     "data": {
      "text/plain": [
       "4"
      ]
     },
     "execution_count": 39,
     "metadata": {},
     "output_type": "execute_result"
    }
   ],
   "source": [
    "#len()--> returns all pairs length in dict\n",
    "len(details)"
   ]
  },
  {
   "cell_type": "code",
   "execution_count": null,
   "id": "09396a60",
   "metadata": {},
   "outputs": [
    {
     "data": {
      "text/plain": [
       "dict_keys(['name', 'age', 'location', 'salary'])"
      ]
     },
     "execution_count": 43,
     "metadata": {},
     "output_type": "execute_result"
    }
   ],
   "source": [
    "#keys returns all key values\n",
    "details.keys()\n",
    "details.keys()"
   ]
  },
  {
   "cell_type": "code",
   "execution_count": null,
   "id": "40ea1d69",
   "metadata": {},
   "outputs": [
    {
     "data": {
      "text/plain": [
       "dict_values(['madhava', 22, 'Hyderbad', 0])"
      ]
     },
     "execution_count": 47,
     "metadata": {},
     "output_type": "execute_result"
    }
   ],
   "source": [
    "#values: returns all values from dict\n",
    "details.values()\n",
    "details.values()"
   ]
  },
  {
   "cell_type": "code",
   "execution_count": null,
   "id": "f393de81",
   "metadata": {},
   "outputs": [
    {
     "data": {
      "text/plain": [
       "dict_items([('name', 'madhava'), ('age', 22), ('location', 'Hyderbad'), ('salary', 0)])"
      ]
     },
     "execution_count": 49,
     "metadata": {},
     "output_type": "execute_result"
    }
   ],
   "source": [
    "#items--> returns all pairs in tuple format\n",
    "details.items()"
   ]
  },
  {
   "cell_type": "code",
   "execution_count": null,
   "id": "12f0fea9",
   "metadata": {},
   "outputs": [
    {
     "name": "stdout",
     "output_type": "stream",
     "text": [
      "{'name': 'madhava', 'age': 22, 'location': 'Hyderbad', 'salary': 0, 'company': 'tcs', 'domain': 'developer'}\n",
      "{'company': 'tcs', 'domain': 'developer'}\n"
     ]
    }
   ],
   "source": [
    "#update->it is used to update dict values with another dict like merging\n",
    "details = { 'name':'madhava','age':22,'location':'Hyderbad','salary':00}\n",
    "emp_name = {'company':'tcs','domain':'developer'}\n",
    "details.update(emp_name) # updating to details\n",
    "print(details)\n",
    "print(emp_name)"
   ]
  },
  {
   "cell_type": "code",
   "execution_count": null,
   "id": "30311b07",
   "metadata": {},
   "outputs": [
    {
     "name": "stdout",
     "output_type": "stream",
     "text": [
      "{1: None, 2: None, 4: None, 6: None, 7: None}\n",
      "{'m': 1, 'a': 1, 'd': 1, 'h': 1, 'v': 1}\n"
     ]
    }
   ],
   "source": [
    "#fromkeys: it is used to implement a dict with the help of another object like list,tuple,strings,set\n",
    "lst = [1,2,4,6,7]\n",
    "numbers = {}.fromkeys(lst)\n",
    "print(numbers)\n",
    "\n",
    "name = 'madhava'\n",
    "name_dict = {}.fromkeys(name,1)\n",
    "print(name_dict)"
   ]
  },
  {
   "cell_type": "code",
   "execution_count": 15,
   "id": "69a98255",
   "metadata": {},
   "outputs": [
    {
     "name": "stdout",
     "output_type": "stream",
     "text": [
      "{'name': 'madhava', 'age': 22, 'location': 'Hyderbad', 'salary': 0}\n",
      "{'name': 'madhava', 'age': 22, 'location': 'Hyderbad', 'salary': 0}\n"
     ]
    }
   ],
   "source": [
    "## shallow copy\n",
    "details = { 'name':'madhava','age':22,'location':'Hyderbad','salary':00}\n",
    "\n",
    "details_copy = details\n",
    "print(details)\n",
    "print(details_copy)"
   ]
  },
  {
   "cell_type": "code",
   "execution_count": null,
   "id": "f1d8177c",
   "metadata": {},
   "outputs": [
    {
     "name": "stdout",
     "output_type": "stream",
     "text": [
      "{'name': 'madhavarb01', 'age': 22, 'location': 'Hyderbad', 'salary': 0}\n",
      "{'name': 'madhavarb01', 'age': 22, 'location': 'Hyderbad', 'salary': 0}\n"
     ]
    }
   ],
   "source": [
    "details['name'] = 'madhavarb01'\n",
    "print(details)\n",
    "print(details_copy)\n"
   ]
  },
  {
   "cell_type": "code",
   "execution_count": null,
   "id": "1feb4063",
   "metadata": {},
   "outputs": [
    {
     "name": "stdout",
     "output_type": "stream",
     "text": [
      "{'name': 'madhavarb01', 'age': 22, 'location': 'Hyderbad', 'salary': 0}\n",
      "{'name': 'madhavarb01', 'age': 22, 'location': 'Hyderbad', 'salary': 0}\n"
     ]
    }
   ],
   "source": [
    "## shallow copy using copy method\n",
    "details_copymethod = details.copy()\n",
    "print(details)\n",
    "print(details_copymethod)"
   ]
  },
  {
   "cell_type": "code",
   "execution_count": null,
   "id": "c7ede704",
   "metadata": {},
   "outputs": [
    {
     "name": "stdout",
     "output_type": "stream",
     "text": [
      "{'name': 'madhavarb01', 'age': 22, 'location': 'Hyderbad', 'salary': 0}\n",
      "\n",
      "{'name': '98667Number', 'age': 22, 'location': 'Hyderbad', 'salary': 0}\n"
     ]
    }
   ],
   "source": [
    "# when we use variable method for copying data it is always going to update but when we use copy method it is ot going to update from direct that's just going to cpoy\n",
    "details['name']='98667Number'\n",
    "print(details_copymethod)\n",
    "print()\n",
    "print(details)"
   ]
  },
  {
   "cell_type": "code",
   "execution_count": null,
   "id": "639e351a",
   "metadata": {},
   "outputs": [
    {
     "name": "stdout",
     "output_type": "stream",
     "text": [
      "name\n",
      "age\n",
      "location\n",
      "salary\n"
     ]
    }
   ],
   "source": [
    "### Iterating Over Dictionaries\n",
    "## You can use loops to iterate over dictionatries, keys,values,or items\n",
    "\n",
    "#iteratig over keys\n",
    "for keys in details.keys():\n",
    "  print(keys)"
   ]
  },
  {
   "cell_type": "code",
   "execution_count": null,
   "id": "9ed053e2",
   "metadata": {},
   "outputs": [
    {
     "name": "stdout",
     "output_type": "stream",
     "text": [
      "98667Number\n",
      "22\n",
      "Hyderbad\n",
      "0\n"
     ]
    }
   ],
   "source": [
    "## iterating over values\n",
    "for values in details.values():\n",
    "  print(values)"
   ]
  },
  {
   "cell_type": "code",
   "execution_count": null,
   "id": "6b8fb438",
   "metadata": {},
   "outputs": [
    {
     "name": "stdout",
     "output_type": "stream",
     "text": [
      "name:98667Number\n",
      "age:22\n",
      "location:Hyderbad\n",
      "salary:0\n"
     ]
    }
   ],
   "source": [
    "## iterate over key value pairs\n",
    "for keys,values in details.items():\n",
    "  print(f\"{keys}:{values}\")"
   ]
  },
  {
   "cell_type": "code",
   "execution_count": null,
   "id": "5aa21e92",
   "metadata": {},
   "outputs": [
    {
     "name": "stdout",
     "output_type": "stream",
     "text": [
      "{'student1': {'name': 'madhava', 'age': 22}, 'student2': {'name': 'yogi', 'age': 20}}\n"
     ]
    }
   ],
   "source": [
    "## Nested Dictionaries\n",
    "students = {\n",
    "  'student1':{'name':'madhava','age':22},\n",
    "  'student2':{'name':'yogi','age':20}\n",
    "}\n",
    "print(students)"
   ]
  },
  {
   "cell_type": "code",
   "execution_count": null,
   "id": "e595d3eb",
   "metadata": {},
   "outputs": [
    {
     "name": "stdout",
     "output_type": "stream",
     "text": [
      "madhava\n",
      "20\n"
     ]
    }
   ],
   "source": [
    "## access nested dictionaries elemets\n",
    "print(students['student1']['name'])\n",
    "print(students['student2']['age'])"
   ]
  },
  {
   "cell_type": "code",
   "execution_count": null,
   "id": "771143d3",
   "metadata": {},
   "outputs": [
    {
     "data": {
      "text/plain": [
       "dict_items([('student1', {'name': 'madhava', 'age': 22}), ('student2', {'name': 'yogi', 'age': 20})])"
      ]
     },
     "execution_count": 108,
     "metadata": {},
     "output_type": "execute_result"
    }
   ],
   "source": [
    "students.items()"
   ]
  },
  {
   "cell_type": "code",
   "execution_count": null,
   "id": "0d80b303",
   "metadata": {},
   "outputs": [
    {
     "name": "stdout",
     "output_type": "stream",
     "text": [
      "student1:{'name': 'madhava', 'age': 22}\n",
      "name:madhava\n",
      "age:22\n",
      "student2:{'name': 'yogi', 'age': 20}\n",
      "name:yogi\n",
      "age:20\n"
     ]
    }
   ],
   "source": [
    "## iterating over nested dictionaries\n",
    "\n",
    "for student_id,student_info in students.items():\n",
    "  print(f\"{student_id}:{student_info}\")\n",
    "  for key,value in student_info.items():\n",
    "    print(f\"{key}:{value}\")"
   ]
  },
  {
   "cell_type": "code",
   "execution_count": null,
   "id": "9a04fd92",
   "metadata": {},
   "outputs": [],
   "source": []
  }
 ],
 "metadata": {
  "kernelspec": {
   "display_name": "dsavenv",
   "language": "python",
   "name": "python3"
  },
  "language_info": {
   "codemirror_mode": {
    "name": "ipython",
    "version": 3
   },
   "file_extension": ".py",
   "mimetype": "text/x-python",
   "name": "python",
   "nbconvert_exporter": "python",
   "pygments_lexer": "ipython3",
   "version": "3.13.5"
  }
 },
 "nbformat": 4,
 "nbformat_minor": 5
}
