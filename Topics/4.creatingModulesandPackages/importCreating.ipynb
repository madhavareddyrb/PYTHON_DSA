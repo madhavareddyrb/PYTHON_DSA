{
 "cells": [
  {
   "cell_type": "markdown",
   "id": "18d8719c",
   "metadata": {},
   "source": [
    "### Importing modules in Python:Modules and Packages\n",
    "\n",
    "modules and packages are used to organize and reuse code."
   ]
  },
  {
   "cell_type": "code",
   "execution_count": 10,
   "id": "fe63eab3",
   "metadata": {},
   "outputs": [
    {
     "name": "stdout",
     "output_type": "stream",
     "text": [
      "4.0\n"
     ]
    }
   ],
   "source": [
    "import math\n",
    "print(math.sqrt(16))\n",
    "#to explore more use math. and see suggestions in vscode"
   ]
  },
  {
   "cell_type": "code",
   "execution_count": 11,
   "id": "6d584019",
   "metadata": {},
   "outputs": [
    {
     "name": "stdout",
     "output_type": "stream",
     "text": [
      "5.0\n",
      "3.141592653589793\n"
     ]
    }
   ],
   "source": [
    "from math import sqrt,pi\n",
    "print(sqrt(25))\n",
    "print(pi)"
   ]
  },
  {
   "cell_type": "code",
   "execution_count": 12,
   "id": "738b8c35",
   "metadata": {},
   "outputs": [],
   "source": [
    "#numpy\n",
    "import numpy"
   ]
  },
  {
   "cell_type": "code",
   "execution_count": 13,
   "id": "b9498cb5",
   "metadata": {},
   "outputs": [
    {
     "data": {
      "text/plain": [
       "array([1, 2, 3, 4])"
      ]
     },
     "execution_count": 13,
     "metadata": {},
     "output_type": "execute_result"
    }
   ],
   "source": [
    "# need to install numpy package first this is not a default package like math\n",
    "import numpy as np\n",
    "np.array([1,2,3,4])"
   ]
  },
  {
   "cell_type": "code",
   "execution_count": 14,
   "id": "c3fb6e64",
   "metadata": {},
   "outputs": [
    {
     "name": "stdout",
     "output_type": "stream",
     "text": [
      "3.141592653589793\n",
      "5.0\n",
      "120\n"
     ]
    }
   ],
   "source": [
    "#to import all functions in a module we use *\n",
    "from math import *\n",
    "print(pi)\n",
    "print(sqrt(25))\n",
    "print(factorial(5))"
   ]
  },
  {
   "cell_type": "code",
   "execution_count": 10,
   "id": "a76829df",
   "metadata": {},
   "outputs": [
    {
     "name": "stdout",
     "output_type": "stream",
     "text": [
      "20\n"
     ]
    }
   ],
   "source": [
    "#importing function like a module from another folder\n",
    "\n",
    "from package.maths import addtions\n",
    "print(addtions(10,10))\n"
   ]
  },
  {
   "cell_type": "code",
   "execution_count": null,
   "id": "f09539dd",
   "metadata": {},
   "outputs": [
    {
     "name": "stdout",
     "output_type": "stream",
     "text": [
      "20\n",
      "0\n"
     ]
    }
   ],
   "source": [
    "from package import maths\n",
    "print(maths.addtions(10,10))\n",
    "print(maths.substraction(10,10))"
   ]
  },
  {
   "cell_type": "code",
   "execution_count": 16,
   "id": "11d245b8",
   "metadata": {},
   "outputs": [
    {
     "name": "stdout",
     "output_type": "stream",
     "text": [
      "30\n",
      "6\n"
     ]
    }
   ],
   "source": [
    "from package.maths import *\n",
    "print(addtions(10,20))\n",
    "print(substraction(10,4))"
   ]
  },
  {
   "cell_type": "code",
   "execution_count": 19,
   "id": "617a8ec0",
   "metadata": {},
   "outputs": [
    {
     "name": "stdout",
     "output_type": "stream",
     "text": [
      "50\n",
      "5.0\n"
     ]
    }
   ],
   "source": [
    "from package.subpackages.pythonmath import *\n",
    "print(multipliction(10,5))\n",
    "print(division(10,2))"
   ]
  },
  {
   "cell_type": "code",
   "execution_count": null,
   "id": "6da429b5",
   "metadata": {},
   "outputs": [],
   "source": []
  }
 ],
 "metadata": {
  "kernelspec": {
   "display_name": "dsavenv",
   "language": "python",
   "name": "python3"
  },
  "language_info": {
   "codemirror_mode": {
    "name": "ipython",
    "version": 3
   },
   "file_extension": ".py",
   "mimetype": "text/x-python",
   "name": "python",
   "nbconvert_exporter": "python",
   "pygments_lexer": "ipython3",
   "version": "3.13.5"
  }
 },
 "nbformat": 4,
 "nbformat_minor": 5
}
