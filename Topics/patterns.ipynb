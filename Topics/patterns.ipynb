{
 "cells": [
  {
   "cell_type": "code",
   "execution_count": 9,
   "id": "5fedc210",
   "metadata": {},
   "outputs": [
    {
     "data": {
      "text/plain": [
       "['    *    ',\n",
       " '   ***   ',\n",
       " '  *****  ',\n",
       " ' ******* ',\n",
       " '*********',\n",
       " ' ******* ',\n",
       " '  *****  ',\n",
       " '   ***   ',\n",
       " '    *    ']"
      ]
     },
     "execution_count": 9,
     "metadata": {},
     "output_type": "execute_result"
    }
   ],
   "source": [
    "## Diamand Pattern\n",
    "def diamond(n):\n",
    "  triangle = []\n",
    "  for i in range(1,n+1):          \n",
    "    stars = '*' * (2*i -1)\n",
    "    spaces = ' ' * (n-i)\n",
    "    triangle.append(spaces+stars+spaces)\n",
    "  for j in range(n-1,0,-1):\n",
    "    stars = '*' * (2*j-1)\n",
    "    spaces = ' ' * (n-j)\n",
    "    triangle.append(spaces+stars+spaces)      \n",
    "  return triangle\n",
    "\n",
    "\n",
    "diamond(5)"
   ]
  },
  {
   "cell_type": "code",
   "execution_count": 11,
   "id": "ddb9ec76",
   "metadata": {},
   "outputs": [
    {
     "data": {
      "text/plain": [
       "['      *', '     **', '    ***', '   ****', '  *****', ' ******', '*******']"
      ]
     },
     "execution_count": 11,
     "metadata": {},
     "output_type": "execute_result"
    }
   ],
   "source": [
    "#right-angled-triangle\n",
    "def right_angle(n):\n",
    "  rightAngle = []\n",
    "  for i in range(1,n+1):\n",
    "    stars = '*' * i\n",
    "    spaces = ' ' * (n-i)\n",
    "    rightAngle.append(spaces+stars)\n",
    "  return rightAngle\n",
    "right_angle(7)"
   ]
  },
  {
   "cell_type": "code",
   "execution_count": 14,
   "id": "30cdae45",
   "metadata": {},
   "outputs": [
    {
     "data": {
      "text/plain": [
       "['*****', ' *** ', '  *  ', ' *** ', '*****']"
      ]
     },
     "execution_count": 14,
     "metadata": {},
     "output_type": "execute_result"
    }
   ],
   "source": [
    "## sandGlass\n",
    "\n",
    "def sandGalss(n):\n",
    "\n",
    "  sandGlass = []\n",
    "  for i in range(n,0,-1):\n",
    "    stars = '*' * (2*i - 1)\n",
    "    spaces = ' ' * (n-i)\n",
    "    sandGlass.append(spaces+stars+spaces)\n",
    "  for j in range(1,n):\n",
    "    stars = '*' * (2 * j + 1)\n",
    "    spaces = \" \" * (n-(j+1))\n",
    "    sandGlass.append(spaces+stars+spaces)\n",
    "  return sandGlass\n",
    "\n",
    "sandGalss(3)"
   ]
  },
  {
   "cell_type": "code",
   "execution_count": 14,
   "id": "3951f928",
   "metadata": {},
   "outputs": [
    {
     "data": {
      "text/plain": [
       "['*', '**', '* *', '*  *', '*****']"
      ]
     },
     "execution_count": 14,
     "metadata": {},
     "output_type": "execute_result"
    }
   ],
   "source": [
    "## Hollow Right Angle Triangle\n",
    "def hollow(n):\n",
    "  hollowT = []\n",
    "  for i in range(1,n+1):\n",
    "    if i < 3:\n",
    "      #stars = '*' * (i)\n",
    "      hollowT.append('*' * i)\n",
    "    elif i>2 and i < n:\n",
    "      #stars = '*'\n",
    "      #spaces = \"a\" * (i-2)\n",
    "      hollowT.append('*' + ' ' * (i-2) + '*' )\n",
    "    else:\n",
    "      #stars = '*' * n\n",
    "      hollowT.append('*' * n)\n",
    "  return hollowT\n",
    "\n",
    "hollow(5)"
   ]
  },
  {
   "cell_type": "code",
   "execution_count": null,
   "id": "5ba47682",
   "metadata": {},
   "outputs": [
    {
     "data": {
      "text/plain": [
       "['*****', '*  *', '* *', '**', '*']"
      ]
     },
     "execution_count": 16,
     "metadata": {},
     "output_type": "execute_result"
    }
   ],
   "source": [
    "# inveted hollow\n",
    "\n",
    "def invertHollow(n):\n",
    "  invertHollow = []\n",
    "  for i in range(n,0,-1):\n",
    "    if i == n:\n",
    "      invertHollow.append('*' * i)\n",
    "    elif i == 1:\n",
    "      invertHollow.append('*')\n",
    "    else:\n",
    "      invertHollow.append('*' + ' ' * (i-2) + '*')\n",
    "  return invertHollow\n",
    "\n",
    "invertHollow(5)"
   ]
  },
  {
   "cell_type": "code",
   "execution_count": 20,
   "id": "caaff627",
   "metadata": {},
   "outputs": [
    {
     "data": {
      "text/plain": [
       "['     1     ',\n",
       " '    1 2    ',\n",
       " '   1 2 3   ',\n",
       " '  1 2 3 4  ',\n",
       " ' 1 2 3 4 5 ',\n",
       " '1 2 3 4 5 6']"
      ]
     },
     "execution_count": 20,
     "metadata": {},
     "output_type": "execute_result"
    }
   ],
   "source": [
    "# number pyramid\n",
    "def numPyramid(n):\n",
    "  numpyramid = []\n",
    "  for i in range(1,n+1):\n",
    "    spaces =  ' ' * (n-i)\n",
    "    stars =' '.join(str(j) for j in range(1,i+1))\n",
    "    numpyramid.append(spaces+stars+spaces)\n",
    "  return numpyramid\n",
    "numPyramid(6)"
   ]
  },
  {
   "cell_type": "code",
   "execution_count": null,
   "id": "6d214972",
   "metadata": {},
   "outputs": [],
   "source": []
  }
 ],
 "metadata": {
  "kernelspec": {
   "display_name": "dsavenv (3.13.5)",
   "language": "python",
   "name": "python3"
  },
  "language_info": {
   "codemirror_mode": {
    "name": "ipython",
    "version": 3
   },
   "file_extension": ".py",
   "mimetype": "text/x-python",
   "name": "python",
   "nbconvert_exporter": "python",
   "pygments_lexer": "ipython3",
   "version": "3.13.5"
  }
 },
 "nbformat": 4,
 "nbformat_minor": 5
}
