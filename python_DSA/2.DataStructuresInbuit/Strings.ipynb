{
 "cells": [
  {
   "cell_type": "markdown",
   "id": "f3641a67-a70e-45cf-9985-6900d9c248b5",
   "metadata": {},
   "source": [
    "Strings can be created by using single quotes,double quotes and triple quotes"
   ]
  },
  {
   "cell_type": "code",
   "execution_count": 255,
   "id": "b43151de-4814-4935-80af-f1c0d87f54c4",
   "metadata": {},
   "outputs": [
    {
     "name": "stdout",
     "output_type": "stream",
     "text": [
      "madhava\n",
      "python\n",
      "<class 'str'>\n"
     ]
    }
   ],
   "source": [
    "a = 'madhava'\n",
    "b = 'python'\n",
    "c = \"\"\"Madhava is learing python\n",
    "can you help hime to study the python\"\"\"\n",
    "print(a)\n",
    "print(b)\n",
    "print(type(a))"
   ]
  },
  {
   "cell_type": "code",
   "execution_count": 388,
   "id": "52cad5c7-cdd7-4dfa-8f43-3f2e4ac92a09",
   "metadata": {},
   "outputs": [
    {
     "ename": "SyntaxError",
     "evalue": "invalid syntax (3941449728.py, line 2)",
     "output_type": "error",
     "traceback": [
      "  \u001b[36mCell\u001b[39m\u001b[36m \u001b[39m\u001b[32mIn[388]\u001b[39m\u001b[32m, line 2\u001b[39m\n\u001b[31m    \u001b[39m\u001b[31mtxt = \"We are the so-called \"Vikings\" from the north.\"\u001b[39m\n                                 ^\n\u001b[31mSyntaxError\u001b[39m\u001b[31m:\u001b[39m invalid syntax\n"
     ]
    }
   ],
   "source": [
    "#excape characters\n",
    "txt = \"We are the so-called \"Vikings\" from the north.\""
   ]
  },
  {
   "cell_type": "code",
   "execution_count": 392,
   "id": "d6d6a6a0-aedb-47a2-92c9-a04b89a930bc",
   "metadata": {},
   "outputs": [
    {
     "name": "stdout",
     "output_type": "stream",
     "text": [
      "We are the so-called \"Vikings\" from the north.\n"
     ]
    }
   ],
   "source": [
    "txt = \"We are the so-called \\\"Vikings\\\" from the north.\" # backslash \\\n",
    "print(txt)"
   ]
  },
  {
   "cell_type": "code",
   "execution_count": 400,
   "id": "6b57114d-4f03-4832-9250-4d79ccfb3dcf",
   "metadata": {},
   "outputs": [
    {
     "name": "stdout",
     "output_type": "stream",
     "text": [
      "we are the so-called \n",
      "Vikings from the north\n"
     ]
    }
   ],
   "source": [
    "txt = \"we are the so-called \\nVikings from the north\" # \\n next line\n",
    "print(txt)"
   ]
  },
  {
   "cell_type": "code",
   "execution_count": 404,
   "id": "deef33e1-43e8-4144-968f-09e128c21ba7",
   "metadata": {},
   "outputs": [
    {
     "name": "stdout",
     "output_type": "stream",
     "text": [
      "we are \\Vikings from north\n"
     ]
    }
   ],
   "source": [
    "text = \"we are \\\\Vikings from north\"\n",
    "print(text)"
   ]
  },
  {
   "cell_type": "code",
   "execution_count": 411,
   "id": "f4e9f7a2-b11a-4ddc-9ae3-0005734c2ae1",
   "metadata": {},
   "outputs": [
    {
     "name": "stdout",
     "output_type": "stream",
     "text": [
      "Vikings from north\n"
     ]
    }
   ],
   "source": [
    "text = \"we are \\rVikings from north\"\n",
    "print(text) # return after the \\r string"
   ]
  },
  {
   "cell_type": "markdown",
   "id": "649b8034-6006-472b-a2ca-3f1d3210d0b5",
   "metadata": {},
   "source": [
    "we can get the characters in string using index number 'madhava' index numbers tarts from 0 \n",
    "here str[0]= 'm',str[1]='a' so on remember that space also hhave index number because it is also an string in strings\n",
    "IN REVERSE INDEX also availiable from -1 to end like , -1,-2,-3 str[-1] = 'a' last character from madhava\n"
   ]
  },
  {
   "cell_type": "code",
   "execution_count": 257,
   "id": "a419e904-018d-4d4e-b805-a9b72fc1adb8",
   "metadata": {},
   "outputs": [
    {
     "data": {
      "text/plain": [
       "'m'"
      ]
     },
     "execution_count": 257,
     "metadata": {},
     "output_type": "execute_result"
    }
   ],
   "source": [
    "name = \"madhava\"\n",
    "name[0]"
   ]
  },
  {
   "cell_type": "code",
   "execution_count": 258,
   "id": "a7930ed5-84b8-4134-9479-8f61472fa6ca",
   "metadata": {},
   "outputs": [
    {
     "data": {
      "text/plain": [
       "'d'"
      ]
     },
     "execution_count": 258,
     "metadata": {},
     "output_type": "execute_result"
    }
   ],
   "source": [
    "name[2]"
   ]
  },
  {
   "cell_type": "code",
   "execution_count": 259,
   "id": "ba83286e-f68a-4ccb-9f66-58db8c061686",
   "metadata": {},
   "outputs": [
    {
     "data": {
      "text/plain": [
       "'a'"
      ]
     },
     "execution_count": 259,
     "metadata": {},
     "output_type": "execute_result"
    }
   ],
   "source": [
    "name[-1]"
   ]
  },
  {
   "cell_type": "code",
   "execution_count": 260,
   "id": "e459762e-d904-40a0-a16e-79d9af8d12b9",
   "metadata": {},
   "outputs": [
    {
     "data": {
      "text/plain": [
       "'a'"
      ]
     },
     "execution_count": 260,
     "metadata": {},
     "output_type": "execute_result"
    }
   ],
   "source": [
    "name[-3]"
   ]
  },
  {
   "cell_type": "code",
   "execution_count": 261,
   "id": "164a13e2-8251-4993-9475-c0d7523efec7",
   "metadata": {},
   "outputs": [
    {
     "data": {
      "text/plain": [
       "'a'"
      ]
     },
     "execution_count": 261,
     "metadata": {},
     "output_type": "execute_result"
    }
   ],
   "source": [
    "name[-6]"
   ]
  },
  {
   "cell_type": "code",
   "execution_count": 262,
   "id": "92400743-f7ac-44d7-aab8-b14d9cf18995",
   "metadata": {},
   "outputs": [
    {
     "ename": "IndexError",
     "evalue": "string index out of range",
     "output_type": "error",
     "traceback": [
      "\u001b[31m---------------------------------------------------------------------------\u001b[39m",
      "\u001b[31mIndexError\u001b[39m                                Traceback (most recent call last)",
      "\u001b[36mCell\u001b[39m\u001b[36m \u001b[39m\u001b[32mIn[262]\u001b[39m\u001b[32m, line 1\u001b[39m\n\u001b[32m----> \u001b[39m\u001b[32m1\u001b[39m \u001b[43mname\u001b[49m\u001b[43m[\u001b[49m\u001b[32;43m10\u001b[39;49m\u001b[43m]\u001b[49m \u001b[38;5;66;03m# index value out of range\u001b[39;00m\n",
      "\u001b[31mIndexError\u001b[39m: string index out of range"
     ]
    }
   ],
   "source": [
    "name[10] # index value out of range"
   ]
  },
  {
   "cell_type": "markdown",
   "id": "368ef62f-a45a-43b2-b228-2fc1cec444b2",
   "metadata": {},
   "source": [
    "we can loop through an index value to print all index values\n"
   ]
  },
  {
   "cell_type": "code",
   "execution_count": 298,
   "id": "a3ac76f2-cfdb-49b6-90cc-4b2e1a644175",
   "metadata": {},
   "outputs": [
    {
     "name": "stdout",
     "output_type": "stream",
     "text": [
      "m\n",
      "a\n",
      "d\n",
      "h\n",
      "a\n",
      "v\n",
      "a\n"
     ]
    }
   ],
   "source": [
    "for char in 'madhava':\n",
    "    print(char)\n",
    "    "
   ]
  },
  {
   "cell_type": "markdown",
   "id": "d111aaa9-c3f9-4741-a4fd-a031d41bed93",
   "metadata": {},
   "source": [
    "we can use length method to print how many characters in string spaces also inculded"
   ]
  },
  {
   "cell_type": "code",
   "execution_count": 300,
   "id": "39b226e0-9c83-471f-b420-83a324334fc9",
   "metadata": {},
   "outputs": [
    {
     "data": {
      "text/plain": [
       "15"
      ]
     },
     "execution_count": 300,
     "metadata": {},
     "output_type": "execute_result"
    }
   ],
   "source": [
    "name = 'Learning Python'\n",
    "len(name)"
   ]
  },
  {
   "cell_type": "markdown",
   "id": "27bcaa81-29de-4160-89f3-131ee601f5fd",
   "metadata": {},
   "source": [
    "we can check some part of the string word is present in full staring are not by using in,not in function"
   ]
  },
  {
   "cell_type": "code",
   "execution_count": 302,
   "id": "b166479f-0815-4f29-85ce-de92b7ba5a29",
   "metadata": {},
   "outputs": [
    {
     "name": "stdout",
     "output_type": "stream",
     "text": [
      "True\n"
     ]
    }
   ],
   "source": [
    "text = 'The best thing in life is free!'\n",
    "'free' in text\n",
    "print('best' in text)"
   ]
  },
  {
   "cell_type": "code",
   "execution_count": 304,
   "id": "ebbf50c7-dae5-404d-8c50-35d31388380c",
   "metadata": {},
   "outputs": [
    {
     "name": "stdout",
     "output_type": "stream",
     "text": [
      "True\n"
     ]
    }
   ],
   "source": [
    "print('name' not in text)"
   ]
  },
  {
   "cell_type": "code",
   "execution_count": 306,
   "id": "da61f9f0-916d-47a1-a421-cc8c58dd2119",
   "metadata": {},
   "outputs": [
    {
     "name": "stdout",
     "output_type": "stream",
     "text": [
      "False\n"
     ]
    }
   ],
   "source": [
    "print('some' in text)"
   ]
  },
  {
   "cell_type": "code",
   "execution_count": 308,
   "id": "a91b6bac-d5c8-43b5-a2d2-d0d682d2efbc",
   "metadata": {},
   "outputs": [
    {
     "name": "stdout",
     "output_type": "stream",
     "text": [
      "True\n"
     ]
    }
   ],
   "source": [
    "#using condition\n",
    "if 'free' in text:\n",
    "    print(True)"
   ]
  },
  {
   "cell_type": "markdown",
   "id": "8a69ae85-fdfc-4553-8435-67a967cfd7ef",
   "metadata": {},
   "source": [
    "String Slicing: slicing means getting set of characters using start and end index numbers"
   ]
  },
  {
   "cell_type": "code",
   "execution_count": 310,
   "id": "aa973704-b576-44a1-856e-fdab34f3bf5e",
   "metadata": {},
   "outputs": [
    {
     "name": "stdout",
     "output_type": "stream",
     "text": [
      "arin\n",
      "ng py\n",
      "learing python is fu\n",
      "learing python is fun\n"
     ]
    }
   ],
   "source": [
    "txt = 'learing python is fun'\n",
    "#0,1,2,3,4,5,6,7,8,9,10,11,12,13,14,15,16,17,18,19,20,21 positive index values\n",
    "#-22,-21,-20,-19,-18,-17,-16,-15,-14,-13,-12,-11,-10,-9,-8,-7,-6,-5,-4,-3,-2,-1  negative index values\n",
    "print(txt[2:6])\n",
    "print(txt[5:10])\n",
    "print(txt[:20]) # from staring to end index number\n",
    "print(txt[0:]) # from starting to ending"
   ]
  },
  {
   "cell_type": "code",
   "execution_count": 311,
   "id": "77a8cc04-65ae-4ba2-acb3-fddb5338cdd9",
   "metadata": {},
   "outputs": [
    {
     "name": "stdout",
     "output_type": "stream",
     "text": [
      "\n"
     ]
    }
   ],
   "source": [
    "#negative indexs\n",
    "print(txt[-4:-10])#prints nothing beacuse backwards index means emptyset(+1) is defualt step -4+1 = -3 but slicing is to right"
   ]
  },
  {
   "cell_type": "code",
   "execution_count": 312,
   "id": "6a6b9b56-b28b-4463-a44e-636bec66a8b0",
   "metadata": {},
   "outputs": [
    {
     "name": "stdout",
     "output_type": "stream",
     "text": [
      "hon is fun\n"
     ]
    }
   ],
   "source": [
    "print(txt[-10:])"
   ]
  },
  {
   "cell_type": "code",
   "execution_count": 313,
   "id": "d4784c89-ac30-459d-87b1-efc8e9b6aa3b",
   "metadata": {},
   "outputs": [
    {
     "name": "stdout",
     "output_type": "stream",
     "text": [
      "learing python is fu\n"
     ]
    }
   ],
   "source": [
    "print(txt[:-1])"
   ]
  },
  {
   "cell_type": "code",
   "execution_count": 314,
   "id": "6be33f97-32b7-4a8b-8f5d-352980f9c166",
   "metadata": {},
   "outputs": [
    {
     "name": "stdout",
     "output_type": "stream",
     "text": [
      "rn yhni u\n",
      "['2', '4', '6']\n",
      "['1', '3', '5']\n",
      "nuf si nohtyp gnirael\n"
     ]
    }
   ],
   "source": [
    "#slicing with (::)\n",
    "txt = 'learing python is fun'\n",
    "print(txt[3::2]) # start and step to skips values\n",
    "numbers = ['1','2','3','4','5','6']\n",
    "print(numbers[1::2]) \n",
    "print(numbers[::2])\n",
    "\n",
    "print(txt[-1::-1]) # reverse of string using slicing with (::)"
   ]
  },
  {
   "cell_type": "code",
   "execution_count": 315,
   "id": "f8405430-b82c-4379-8b9a-8debacd113d4",
   "metadata": {},
   "outputs": [
    {
     "name": "stdout",
     "output_type": "stream",
     "text": [
      "nfs otpgial\n"
     ]
    }
   ],
   "source": [
    "txt = 'learing python is fun'\n",
    "print(txt[-1::-2])"
   ]
  },
  {
   "cell_type": "markdown",
   "id": "52e0742d-5fe4-491d-bc63-d9f8dee636cd",
   "metadata": {},
   "source": [
    "STring concatenation it is a process of uisng + opeartor to combine two strings"
   ]
  },
  {
   "cell_type": "code",
   "execution_count": 317,
   "id": "26312b81-3d57-4a6e-b818-08388b93ead7",
   "metadata": {},
   "outputs": [
    {
     "name": "stdout",
     "output_type": "stream",
     "text": [
      "madhava age is 20\n"
     ]
    }
   ],
   "source": [
    "name = 'madhava'\n",
    "age = \"20\"\n",
    "print(name+' age is ' + age)\n"
   ]
  },
  {
   "cell_type": "code",
   "execution_count": 318,
   "id": "04a42929-1c28-40db-a6fa-6cfe090bb047",
   "metadata": {},
   "outputs": [
    {
     "ename": "TypeError",
     "evalue": "can only concatenate str (not \"int\") to str",
     "output_type": "error",
     "traceback": [
      "\u001b[31m---------------------------------------------------------------------------\u001b[39m",
      "\u001b[31mTypeError\u001b[39m                                 Traceback (most recent call last)",
      "\u001b[36mCell\u001b[39m\u001b[36m \u001b[39m\u001b[32mIn[318]\u001b[39m\u001b[32m, line 3\u001b[39m\n\u001b[32m      1\u001b[39m name = \u001b[33m'\u001b[39m\u001b[33myogi\u001b[39m\u001b[33m'\u001b[39m\n\u001b[32m      2\u001b[39m age = \u001b[32m23\u001b[39m \n\u001b[32m----> \u001b[39m\u001b[32m3\u001b[39m \u001b[38;5;28mprint\u001b[39m(\u001b[43mname\u001b[49m\u001b[43m+\u001b[49m\u001b[33;43m\"\u001b[39;49m\u001b[33;43m age is \u001b[39;49m\u001b[33;43m\"\u001b[39;49m\u001b[43m+\u001b[49m\u001b[43mage\u001b[49m) \u001b[38;5;66;03m# concates only stings with strings not with int type\u001b[39;00m\n",
      "\u001b[31mTypeError\u001b[39m: can only concatenate str (not \"int\") to str"
     ]
    }
   ],
   "source": [
    "name = 'yogi'\n",
    "age = 23 \n",
    "print(name+\" age is \"+age) # concates only stings with strings not with int type"
   ]
  },
  {
   "cell_type": "markdown",
   "id": "6e313f3b-dcc3-4ce7-a775-e3ef34de49af",
   "metadata": {},
   "source": [
    "to overcome above problem we have f strings use flower brackets for variable names"
   ]
  },
  {
   "cell_type": "code",
   "execution_count": 340,
   "id": "a09470b9-1980-485b-9d40-babbb7ae6fe0",
   "metadata": {},
   "outputs": [
    {
     "name": "stdout",
     "output_type": "stream",
     "text": [
      "yogi age is 23\n"
     ]
    }
   ],
   "source": [
    "print(f'{name} age is {age}')"
   ]
  },
  {
   "cell_type": "markdown",
   "id": "981fc45a-81b1-4c9e-8793-cce61ef08f52",
   "metadata": {},
   "source": [
    "#String repetation:It is a process of using * operator between one int pbject and str to repeat the same string multiple times"
   ]
  },
  {
   "cell_type": "code",
   "execution_count": 342,
   "id": "54df1a90-d8c8-40b2-84b1-f1f0b6bc0ed3",
   "metadata": {},
   "outputs": [
    {
     "name": "stdout",
     "output_type": "stream",
     "text": [
      "madhavamadhava\n",
      "madhavamadhavamadhavamadhavamadhava\n"
     ]
    }
   ],
   "source": [
    "name=\"madhava\"\n",
    "print(name*2)\n",
    "print(name*5)"
   ]
  },
  {
   "cell_type": "code",
   "execution_count": 343,
   "id": "98839d35-39e9-46f2-80bf-418e382be4e5",
   "metadata": {},
   "outputs": [],
   "source": [
    "#Sstring packing: It is the process of gathering/grouping the different stings to one string\n",
    "#String unpackin: It is the process of ungrouping one string to different strings"
   ]
  },
  {
   "cell_type": "code",
   "execution_count": 344,
   "id": "359a0fa6-f5c6-481d-9d8a-25597ecb7056",
   "metadata": {},
   "outputs": [
    {
     "name": "stdout",
     "output_type": "stream",
     "text": [
      "MAD\n"
     ]
    }
   ],
   "source": [
    "a = 'M'\n",
    "b = 'A'\n",
    "c = 'D'\n",
    "moviename = a+b+c\n",
    "print(moviename)"
   ]
  },
  {
   "cell_type": "code",
   "execution_count": 345,
   "id": "12e314fa-a021-49a9-b9b2-5f9e9eca198c",
   "metadata": {},
   "outputs": [
    {
     "name": "stdout",
     "output_type": "stream",
     "text": [
      "MAD\n",
      "mad    MAD    single\n",
      "M#A#D\n"
     ]
    }
   ],
   "source": [
    "movie_name = \"\".join([a,b,c]) # paacking by using join method\n",
    "print(movie_name)\n",
    "lis = ['mad','MAD','single']\n",
    "list_item = \"    \".join(lis)\n",
    "print(list_item)\n",
    "move = \"#\".join([a,b,c])\n",
    "print(move)"
   ]
  },
  {
   "cell_type": "code",
   "execution_count": 346,
   "id": "c7302671-c380-487c-b7ce-98acd4617bcc",
   "metadata": {},
   "outputs": [
    {
     "name": "stdout",
     "output_type": "stream",
     "text": [
      "m\n",
      "a\n",
      "m a d h a v a\n"
     ]
    }
   ],
   "source": [
    "#string unpacking\n",
    "name = 'madhava'\n",
    "a,b,c,d,e,f,g = name\n",
    "print(a)\n",
    "print(b)\n",
    "print(a,b,c,d,e,f,g)"
   ]
  },
  {
   "cell_type": "code",
   "execution_count": 347,
   "id": "c524db78-c085-439c-8376-eb3eebc017ed",
   "metadata": {},
   "outputs": [
    {
     "ename": "ValueError",
     "evalue": "too many values to unpack (expected 4)",
     "output_type": "error",
     "traceback": [
      "\u001b[31m---------------------------------------------------------------------------\u001b[39m",
      "\u001b[31mValueError\u001b[39m                                Traceback (most recent call last)",
      "\u001b[36mCell\u001b[39m\u001b[36m \u001b[39m\u001b[32mIn[347]\u001b[39m\u001b[32m, line 2\u001b[39m\n\u001b[32m      1\u001b[39m name = \u001b[33m'\u001b[39m\u001b[33mpython\u001b[39m\u001b[33m'\u001b[39m\n\u001b[32m----> \u001b[39m\u001b[32m2\u001b[39m a,b,c,d = name \u001b[38;5;66;03m#variable and length of string must be same otherwise it is not support to unpacking too many values to unpack error\u001b[39;00m\n",
      "\u001b[31mValueError\u001b[39m: too many values to unpack (expected 4)"
     ]
    }
   ],
   "source": [
    "name = 'python'\n",
    "a,b,c,d = name #variable and length of string must be same otherwise it is not support to unpacking too many values to unpack error"
   ]
  },
  {
   "cell_type": "markdown",
   "id": "b3df6c72-c3c4-4787-ac8b-89b24facf9d7",
   "metadata": {},
   "source": [
    "#string methods\n",
    "len(),str.count(), str.index('p'),str.lower().str.upper(),str.swapcase(),str.islower(),str.isupper(),str.startswith(),"
   ]
  },
  {
   "cell_type": "code",
   "execution_count": 364,
   "id": "c05eeb54-0802-4504-a01f-f0bb8fd6e898",
   "metadata": {},
   "outputs": [
    {
     "name": "stdout",
     "output_type": "stream",
     "text": [
      "7\n",
      "3\n",
      "1\n"
     ]
    }
   ],
   "source": [
    "name = 'madhava'\n",
    "print(len(name))\n",
    "print(name.count('a'))\n",
    "print(name.count('h')) # returns how many times it is repeated in string"
   ]
  },
  {
   "cell_type": "code",
   "execution_count": 366,
   "id": "5f279a2f-81a3-4e04-b2ac-2b5254f7f647",
   "metadata": {},
   "outputs": [
    {
     "name": "stdout",
     "output_type": "stream",
     "text": [
      "1\n",
      "1\n"
     ]
    }
   ],
   "source": [
    "#str.index returns index value of specific charcter\n",
    "name = \"madhava\"\n",
    "name.index('m')\n",
    "print(name.index('a')) # returns first index value\n",
    "print(name.index('a'))"
   ]
  },
  {
   "cell_type": "code",
   "execution_count": 368,
   "id": "7211c1b0-5487-43c7-acb1-ff06f48281de",
   "metadata": {},
   "outputs": [
    {
     "data": {
      "text/plain": [
       "'python is interpreter language'"
      ]
     },
     "execution_count": 368,
     "metadata": {},
     "output_type": "execute_result"
    }
   ],
   "source": [
    "#lower: converts the given str to lower case\n",
    "name = 'PYTHON is Interpreter language'\n",
    "name.lower()"
   ]
  },
  {
   "cell_type": "code",
   "execution_count": 370,
   "id": "7e55e125-d4db-406e-be74-36603ee6a677",
   "metadata": {},
   "outputs": [
    {
     "data": {
      "text/plain": [
       "'PYTHON IS INTERPRETER LANGUAGE'"
      ]
     },
     "execution_count": 370,
     "metadata": {},
     "output_type": "execute_result"
    }
   ],
   "source": [
    "#upper: converts to uppercase\n",
    "name.upper()"
   ]
  },
  {
   "cell_type": "code",
   "execution_count": 372,
   "id": "9cab6a96-0b50-47b4-a578-10da8cf76171",
   "metadata": {},
   "outputs": [
    {
     "data": {
      "text/plain": [
       "'python IS iNTERPRETER LANGUAGE'"
      ]
     },
     "execution_count": 372,
     "metadata": {},
     "output_type": "execute_result"
    }
   ],
   "source": [
    "#swapcase swap lower case to upper and upper to lower case\n",
    "name.swapcase()"
   ]
  },
  {
   "cell_type": "code",
   "execution_count": 374,
   "id": "34e2893c-990f-4ec7-9e20-357982ee2e88",
   "metadata": {},
   "outputs": [
    {
     "name": "stdout",
     "output_type": "stream",
     "text": [
      "True\n",
      "True\n",
      "False\n"
     ]
    }
   ],
   "source": [
    "#islower checks the given string is lower  case or not\n",
    "movie = 'darling'\n",
    "print(movie.islower())\n",
    "\n",
    "names = 'darling ' #space is excluded\n",
    "print(names.islower())\n",
    "\n",
    "final  = 'Destination'\n",
    "print(final.islower())"
   ]
  },
  {
   "cell_type": "code",
   "execution_count": 376,
   "id": "90d06323-34c2-4064-a0dc-e7d73c679cf1",
   "metadata": {},
   "outputs": [
    {
     "name": "stdout",
     "output_type": "stream",
     "text": [
      "True\n",
      "False\n"
     ]
    }
   ],
   "source": [
    "#isUpper same check given stting is uppeercase pr not\n",
    "name = \"MADHAVA\"\n",
    "print(name.isupper())\n",
    "learning = \"trying to Learn PYTHON\"\n",
    "print(learning.isupper())"
   ]
  },
  {
   "cell_type": "code",
   "execution_count": 378,
   "id": "fc82a227-199c-4f08-bd21-856970ad3f44",
   "metadata": {},
   "outputs": [
    {
     "name": "stdout",
     "output_type": "stream",
     "text": [
      "True\n",
      "False\n",
      "True\n"
     ]
    }
   ],
   "source": [
    "#startswith: It is used to check a specific string startswith specific character or not\n",
    "name = \"madhava\"\n",
    "print(name.startswith('m'))\n",
    "print(name.startswith(\"M\")) #case senstive\n",
    "print(name.startswith(\"mad\"))"
   ]
  },
  {
   "cell_type": "code",
   "execution_count": 380,
   "id": "999c088d-efd5-4e85-84af-ac06bd4ffe72",
   "metadata": {},
   "outputs": [
    {
     "name": "stdout",
     "output_type": "stream",
     "text": [
      "True\n",
      "True\n",
      "False\n"
     ]
    }
   ],
   "source": [
    "#endswith: Is is used to check a specific character endswith or not\n",
    "name = \"Python Is tough\"\n",
    "print(name.endswith('h'))\n",
    "print(name.endswith('ugh'))\n",
    "print(name.endswith('hgu'))"
   ]
  },
  {
   "cell_type": "markdown",
   "id": "e1c74c1c-3d5c-4d0d-8aa1-1a136bd1e5fb",
   "metadata": {},
   "source": [
    "#split: It is used to split the string based on special delimietr(means charcter,special symbol,digits etc)\n",
    "#it allows only one single delimiter at a time\n",
    "#it will result in list format \n",
    "#if specifed delimiter is not avaiable then it will not break,it will take complete str as single string"
   ]
  },
  {
   "cell_type": "code",
   "execution_count": 382,
   "id": "cc073bed-16f1-4d87-a208-6fab722f1eed",
   "metadata": {},
   "outputs": [
    {
     "name": "stdout",
     "output_type": "stream",
     "text": [
      "['python', 'full', 'stack']\n",
      "['python full stack']\n",
      "['python full st', 'ck']\n",
      "['python fu', ' stack']\n"
     ]
    },
    {
     "ename": "TypeError",
     "evalue": "'str' object cannot be interpreted as an integer",
     "output_type": "error",
     "traceback": [
      "\u001b[31m---------------------------------------------------------------------------\u001b[39m",
      "\u001b[31mTypeError\u001b[39m                                 Traceback (most recent call last)",
      "\u001b[36mCell\u001b[39m\u001b[36m \u001b[39m\u001b[32mIn[382]\u001b[39m\u001b[32m, line 6\u001b[39m\n\u001b[32m      4\u001b[39m \u001b[38;5;28mprint\u001b[39m(st.split(\u001b[33m'\u001b[39m\u001b[33ma\u001b[39m\u001b[33m'\u001b[39m))\n\u001b[32m      5\u001b[39m \u001b[38;5;28mprint\u001b[39m(st.split(\u001b[33m'\u001b[39m\u001b[33mll\u001b[39m\u001b[33m'\u001b[39m))\n\u001b[32m----> \u001b[39m\u001b[32m6\u001b[39m \u001b[38;5;28mprint\u001b[39m(\u001b[43mst\u001b[49m\u001b[43m.\u001b[49m\u001b[43msplit\u001b[49m\u001b[43m(\u001b[49m\u001b[33;43m'\u001b[39;49m\u001b[33;43ma\u001b[39;49m\u001b[33;43m'\u001b[39;49m\u001b[43m,\u001b[49m\u001b[33;43m'\u001b[39;49m\u001b[33;43mb\u001b[39;49m\u001b[33;43m'\u001b[39;49m\u001b[43m)\u001b[49m)\n",
      "\u001b[31mTypeError\u001b[39m: 'str' object cannot be interpreted as an integer"
     ]
    }
   ],
   "source": [
    "st = 'python full stack'\n",
    "print(st.split()) # returns in list format\n",
    "print(st.split('&')) # there is no & symbol so it will not break th string to words. Takes as single string\n",
    "print(st.split('a'))\n",
    "print(st.split('ll'))\n",
    "print(st.split('a','b'))"
   ]
  },
  {
   "cell_type": "code",
   "execution_count": 362,
   "id": "2db306ec-fb37-4c6d-b774-f88d9982aaf9",
   "metadata": {},
   "outputs": [
    {
     "name": "stdout",
     "output_type": "stream",
     "text": [
      "Python for dAtA science\n",
      "Python_for_data_science\n",
      "Python for dAAAta science\n",
      "PythOn for data science\n"
     ]
    }
   ],
   "source": [
    "#replace: It is used to replace a part of the main staring with specific sub string\n",
    "name = \"Python for data science\"\n",
    "print(name.replace('a','A'))\n",
    "print(name.replace(\" \",'_'))\n",
    "print(name.replace(\"a\",\"AAA\",1))\n",
    "print(name.replace(\"o\",\"O\",1)) # first one"
   ]
  },
  {
   "cell_type": "code",
   "execution_count": 384,
   "id": "625fa026-885f-41a7-bb10-30e2c0119343",
   "metadata": {},
   "outputs": [
    {
     "data": {
      "text/plain": [
       "'Python For Data Science And Ai/Ml'"
      ]
     },
     "execution_count": 384,
     "metadata": {},
     "output_type": "execute_result"
    }
   ],
   "source": [
    "#title: It will covert every first characer of the words to upper case\n",
    "st = 'python for data science and ai/ml'\n",
    "st.title()"
   ]
  },
  {
   "cell_type": "code",
   "execution_count": 386,
   "id": "cf3de949-b9d7-429d-9954-54df39c86c69",
   "metadata": {},
   "outputs": [
    {
     "data": {
      "text/plain": [
       "'Python for data science and ai/ml'"
      ]
     },
     "execution_count": 386,
     "metadata": {},
     "output_type": "execute_result"
    }
   ],
   "source": [
    "#Capitalize: It is used to convert the first character of entire string to uppercase and remaining to lower\n",
    "st = 'python for Data Science and AI/ML'\n",
    "st.capitalize()"
   ]
  },
  {
   "cell_type": "markdown",
   "id": "1ad3639c-a241-4d94-b2df-0d2655646947",
   "metadata": {},
   "source": [
    "# Problems\n"
   ]
  },
  {
   "cell_type": "code",
   "execution_count": 414,
   "id": "b7648b36-ae89-471e-84a5-82c6e2128f67",
   "metadata": {},
   "outputs": [
    {
     "name": "stdout",
     "output_type": "stream",
     "text": [
      "avahdam\n"
     ]
    }
   ],
   "source": [
    "#1.Reverse a string\n",
    "strname = 'madhava'\n",
    "print(strname[-1::-1])"
   ]
  },
  {
   "cell_type": "code",
   "execution_count": 428,
   "id": "543328dc-082f-48c5-9f27-88763d18646f",
   "metadata": {},
   "outputs": [
    {
     "name": "stdin",
     "output_type": "stream",
     "text": [
      "Enter The plindrome:  madam\n"
     ]
    },
    {
     "name": "stdout",
     "output_type": "stream",
     "text": [
      "yes madam is palindrome\n"
     ]
    }
   ],
   "source": [
    "#2.Palindrome:means same from left to right and right to left example (MOM,madam)\n",
    "strname = str(input(\"Enter The plindrome: \"))\n",
    "if strname == strname[-1::-1]: \n",
    "    print(f\"yes {strname} is palindrome\")\n",
    "else:\n",
    "    print(f\"NO {strname} is not palindrome\")"
   ]
  },
  {
   "cell_type": "code",
   "execution_count": 454,
   "id": "64cc5ffa-3239-40dd-bd48-460b510de6c5",
   "metadata": {},
   "outputs": [
    {
     "name": "stdout",
     "output_type": "stream",
     "text": [
      "3\n"
     ]
    }
   ],
   "source": [
    "#3.Count vowels in string\n",
    "name = \"mAdhava\"\n",
    "vowels = ['a','e','i','o','u']\n",
    "count = 0\n",
    "for char in name:\n",
    "    if char.lower() in vowels: #changing char to lower before checking\n",
    "        count += 1\n",
    "print(count)"
   ]
  },
  {
   "cell_type": "code",
   "execution_count": 442,
   "id": "0c33556f-cb18-4db8-8e79-63bd288a10e7",
   "metadata": {},
   "outputs": [
    {
     "name": "stdout",
     "output_type": "stream",
     "text": [
      "False\n"
     ]
    }
   ],
   "source": [
    "#4.compare two strings is same or not\n",
    "name = 'madhava'\n",
    "name2 = 'madhava'\n",
    "name3 = 'reddy'\n",
    "if name == name3: # change to name2 to check second name is true\n",
    "    print(True)\n",
    "else:\n",
    "    print(False)"
   ]
  },
  {
   "cell_type": "code",
   "execution_count": 448,
   "id": "81fe46fc-ce94-4ab1-a852-3601628dd775",
   "metadata": {},
   "outputs": [
    {
     "name": "stdout",
     "output_type": "stream",
     "text": [
      "['learing', 'foundations', 'are', 'important']\n",
      "4\n"
     ]
    }
   ],
   "source": [
    "#5.Count words in entire string\n",
    "\n",
    "ram = 'learing foundations are important'\n",
    "words = (ram.split(\" \"))\n",
    "print(words)\n",
    "print(len(words))\n"
   ]
  },
  {
   "cell_type": "code",
   "execution_count": 452,
   "id": "152e000c-c210-44c3-a13a-e168ff9791d4",
   "metadata": {},
   "outputs": [
    {
     "name": "stdout",
     "output_type": "stream",
     "text": [
      "pythonrgami\n"
     ]
    }
   ],
   "source": [
    "#6.Remove duplicates characters in string\n",
    "lang = 'pythonprogramming'\n",
    "newlang = \"\"\n",
    "for i in lang:\n",
    "    if i not in newlang:\n",
    "        newlang += i\n",
    "print(newlang)"
   ]
  },
  {
   "cell_type": "code",
   "execution_count": 458,
   "id": "92efd26d-67c0-480a-8810-fa048220a5fe",
   "metadata": {},
   "outputs": [
    {
     "name": "stdout",
     "output_type": "stream",
     "text": [
      "5\n"
     ]
    }
   ],
   "source": [
    "#7.count consonants in string\n",
    "lang = 'python'\n",
    "vowels = ['a','e','i','o','u'] # writing consonants is long so check not in using condition\n",
    "count = 0\n",
    "for i in lang:\n",
    "    if i not in vowels:\n",
    "        count += 1\n",
    "print(count)"
   ]
  },
  {
   "cell_type": "code",
   "execution_count": 488,
   "id": "ee04e5aa-3343-477b-b967-92bad0cef01c",
   "metadata": {},
   "outputs": [
    {
     "name": "stdout",
     "output_type": "stream",
     "text": [
      "cat and rat are not anagrams\n"
     ]
    }
   ],
   "source": [
    "#8.anagram same character in two strings\n",
    "s = 'cat'\n",
    "t = 'rat'\n",
    "if len(s) != len(t):\n",
    "    print(f\"{s} and {t} are not anagrams\")\n",
    "elif sorted(s) == sorted(t):\n",
    "    print(f\"{s} and {t} are anagrams\")\n",
    "else:\n",
    "    print(f\"{s} and {t} are not anagrams\")"
   ]
  },
  {
   "cell_type": "code",
   "execution_count": 506,
   "id": "583057b6-7f8f-408a-a922-127b1b808f20",
   "metadata": {},
   "outputs": [
    {
     "name": "stdout",
     "output_type": "stream",
     "text": [
      "False\n"
     ]
    }
   ],
   "source": [
    "#9.substring problem\n",
    "a = 'abcde'\n",
    "b = 'aec'\n",
    "c = a[::]\n",
    "if c == b:\n",
    "    print(True)\n",
    "else:\n",
    "    print(False)"
   ]
  },
  {
   "cell_type": "code",
   "execution_count": null,
   "id": "cd722642-79ff-498e-be16-42f97b743bda",
   "metadata": {},
   "outputs": [],
   "source": []
  }
 ],
 "metadata": {
  "kernelspec": {
   "display_name": "Python [conda env:venv]",
   "language": "python",
   "name": "conda-env-venv-py"
  },
  "language_info": {
   "codemirror_mode": {
    "name": "ipython",
    "version": 3
   },
   "file_extension": ".py",
   "mimetype": "text/x-python",
   "name": "python",
   "nbconvert_exporter": "python",
   "pygments_lexer": "ipython3",
   "version": "3.13.4"
  }
 },
 "nbformat": 4,
 "nbformat_minor": 5
}
