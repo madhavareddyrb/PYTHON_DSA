{
 "cells": [
  {
   "cell_type": "code",
   "execution_count": 15,
   "id": "26b84647",
   "metadata": {},
   "outputs": [
    {
     "name": "stdout",
     "output_type": "stream",
     "text": [
      "[1, 2, 5, 6, 7, 8, 9]\n"
     ]
    }
   ],
   "source": [
    "def selection_sort(arr):\n",
    "  n = len(arr)\n",
    "  for passes in range(0,n):\n",
    "    min_index = passes\n",
    "    for j in range(passes+1,n):\n",
    "      if (arr[j] < arr[min_index]):\n",
    "        min_index = j\n",
    "      arr[passes],arr[min_index] = arr[min_index],arr[passes]\n",
    "  \n",
    "  return arr\n",
    "\n",
    "mylst = [2,9,8,7,6,5,1]\n",
    "selection_sort = selection_sort(mylst)\n",
    "print(selection_sort)"
   ]
  },
  {
   "cell_type": "code",
   "execution_count": null,
   "id": "e927bd24",
   "metadata": {},
   "outputs": [],
   "source": []
  }
 ],
 "metadata": {
  "kernelspec": {
   "display_name": "venv",
   "language": "python",
   "name": "python3"
  },
  "language_info": {
   "codemirror_mode": {
    "name": "ipython",
    "version": 3
   },
   "file_extension": ".py",
   "mimetype": "text/x-python",
   "name": "python",
   "nbconvert_exporter": "python",
   "pygments_lexer": "ipython3",
   "version": "3.13.4"
  }
 },
 "nbformat": 4,
 "nbformat_minor": 5
}
