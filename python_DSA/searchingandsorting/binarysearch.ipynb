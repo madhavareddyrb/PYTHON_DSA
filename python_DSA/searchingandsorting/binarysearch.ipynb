{
 "cells": [
  {
   "cell_type": "code",
   "execution_count": 14,
   "id": "02f1adf9",
   "metadata": {},
   "outputs": [
    {
     "name": "stdout",
     "output_type": "stream",
     "text": [
      "[1, 2, 3, 4, 5, 6]\n",
      "5\n"
     ]
    }
   ],
   "source": [
    "def binary_search(arr,target):\n",
    "  size = len(arr)\n",
    "  start = 0\n",
    "  end = size-1\n",
    "  print(arr)\n",
    "  while start <= end:\n",
    "    middle = (start+end)//2\n",
    "    if not arr:\n",
    "      return -1\n",
    "    elif (arr[middle] == target):\n",
    "      return middle\n",
    "    elif arr[middle] < target:\n",
    "      start = middle+1\n",
    "    elif arr[middle] > target:\n",
    "      end = middle-1\n",
    "    \n",
    "  return -1\n",
    "\n",
    "mylst = [1,2,3,4,5,6]\n",
    "target = 6\n",
    "result = binary_search(mylst,target)\n",
    "print(result)"
   ]
  }
 ],
 "metadata": {
  "kernelspec": {
   "display_name": "venv",
   "language": "python",
   "name": "python3"
  },
  "language_info": {
   "codemirror_mode": {
    "name": "ipython",
    "version": 3
   },
   "file_extension": ".py",
   "mimetype": "text/x-python",
   "name": "python",
   "nbconvert_exporter": "python",
   "pygments_lexer": "ipython3",
   "version": "3.13.4"
  }
 },
 "nbformat": 4,
 "nbformat_minor": 5
}
