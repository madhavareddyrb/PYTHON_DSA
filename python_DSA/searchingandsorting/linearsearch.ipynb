{
 "cells": [
  {
   "cell_type": "code",
   "execution_count": 3,
   "id": "1ff0eb45",
   "metadata": {},
   "outputs": [
    {
     "name": "stdout",
     "output_type": "stream",
     "text": [
      "4\n"
     ]
    }
   ],
   "source": [
    "##linear search arr and target\n",
    "def linear_search(arr,target):\n",
    "  size = len(arr)\n",
    "  for index in range(size):\n",
    "    if arr[index] == target:\n",
    "      return index\n",
    "    \n",
    "  return -1\n",
    "    \n",
    "my_list = [10,54,72,45,90,14,76,28]\n",
    "target = 90\n",
    "\n",
    "result = linear_search(my_list,target)\n",
    "print(result)"
   ]
  },
  {
   "cell_type": "code",
   "execution_count": null,
   "id": "9c26c368",
   "metadata": {},
   "outputs": [
    {
     "name": "stdout",
     "output_type": "stream",
     "text": [
      "6\n"
     ]
    }
   ],
   "source": [
    "def linear_search(arr,target):\n",
    "  size = len(arr)\n",
    "  for index in range(size):\n",
    "    if arr[index] == targe:\n",
    "      return index\n",
    "  return -1\n",
    "\n",
    "my_li = [10,64,86,34,65,76,98,34]\n",
    "targe = 98\n",
    "print(linear_search(my_li,targe))"
   ]
  },
  {
   "cell_type": "code",
   "execution_count": null,
   "id": "95830052",
   "metadata": {},
   "outputs": [],
   "source": []
  }
 ],
 "metadata": {
  "kernelspec": {
   "display_name": "venv",
   "language": "python",
   "name": "python3"
  },
  "language_info": {
   "codemirror_mode": {
    "name": "ipython",
    "version": 3
   },
   "file_extension": ".py",
   "mimetype": "text/x-python",
   "name": "python",
   "nbconvert_exporter": "python",
   "pygments_lexer": "ipython3",
   "version": "3.13.4"
  }
 },
 "nbformat": 4,
 "nbformat_minor": 5
}
