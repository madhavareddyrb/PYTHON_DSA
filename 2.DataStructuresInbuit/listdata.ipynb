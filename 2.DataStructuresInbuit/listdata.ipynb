{
 "cells": [
  {
   "cell_type": "markdown",
   "id": "329195c2-efc0-489e-9c32-1191c25602b4",
   "metadata": {},
   "source": [
    "# List Data Structure"
   ]
  },
  {
   "cell_type": "markdown",
   "id": "462d1ac8-aa57-4a85-b495-1f3bdcd9d26d",
   "metadata": {},
   "source": [
    "#we can create list by using []\n",
    "#creating list by list([])\n",
    "#we are going to see some errors and i am not going to leave like that for best practices\n",
    "#list is mutable"
   ]
  },
  {
   "cell_type": "code",
   "execution_count": 7,
   "id": "1510665b-d99f-4124-bec9-d4630ad72c0f",
   "metadata": {},
   "outputs": [
    {
     "name": "stdout",
     "output_type": "stream",
     "text": [
      "[1, 3, 4, 'hello', 'a', 10]\n",
      "<class 'list'>\n"
     ]
    }
   ],
   "source": [
    "ls = [1,3,4,'hello','a',10]\n",
    "print(ls)\n",
    "print(type(ls))"
   ]
  },
  {
   "cell_type": "code",
   "execution_count": 13,
   "id": "8d3526a1-75e4-4f8f-99af-eb8045e33b23",
   "metadata": {},
   "outputs": [
    {
     "name": "stdout",
     "output_type": "stream",
     "text": [
      "[1, 3, 4, 'name', 'age']\n",
      "<class 'list'>\n"
     ]
    }
   ],
   "source": [
    "lst = list([1,3,4,'name','age'])\n",
    "print(lst)\n",
    "print(type(lst))"
   ]
  },
  {
   "cell_type": "markdown",
   "id": "3d7e2ae5-41b9-441f-8274-897dfa6b9bb5",
   "metadata": {},
   "source": [
    "#list indeing same as strings"
   ]
  },
  {
   "cell_type": "code",
   "execution_count": 20,
   "id": "bf708924-597d-4e82-869e-00046b765a8f",
   "metadata": {},
   "outputs": [
    {
     "data": {
      "text/plain": [
       "'age'"
      ]
     },
     "execution_count": 20,
     "metadata": {},
     "output_type": "execute_result"
    }
   ],
   "source": [
    "lst = list([1,3,4,'name','age'])\n",
    "lst[4]"
   ]
  },
  {
   "cell_type": "code",
   "execution_count": 22,
   "id": "8de1c984-bdfd-429d-b380-7c075beeff20",
   "metadata": {},
   "outputs": [
    {
     "data": {
      "text/plain": [
       "[4, 'name', 'age']"
      ]
     },
     "execution_count": 22,
     "metadata": {},
     "output_type": "execute_result"
    }
   ],
   "source": [
    "lst = list([1,3,4,'name','age'])\n",
    "lst[2:5]"
   ]
  },
  {
   "cell_type": "code",
   "execution_count": 24,
   "id": "9f53785e-c8e2-4ee2-b03d-5ee0efaf5ffd",
   "metadata": {},
   "outputs": [
    {
     "data": {
      "text/plain": [
       "[4, 'name', 'age']"
      ]
     },
     "execution_count": 24,
     "metadata": {},
     "output_type": "execute_result"
    }
   ],
   "source": [
    "lst[2::1]"
   ]
  },
  {
   "cell_type": "code",
   "execution_count": 26,
   "id": "f9a589bd-6a6a-4115-98f0-044a00d570ae",
   "metadata": {},
   "outputs": [
    {
     "data": {
      "text/plain": [
       "[3, 4, 'name', 'age']"
      ]
     },
     "execution_count": 26,
     "metadata": {},
     "output_type": "execute_result"
    }
   ],
   "source": [
    "lst[1::]"
   ]
  },
  {
   "cell_type": "code",
   "execution_count": 28,
   "id": "4383d2d2-8fb2-4bea-9d37-1f9fbf309b38",
   "metadata": {},
   "outputs": [
    {
     "data": {
      "text/plain": [
       "['age', 'name', 4, 3, 1]"
      ]
     },
     "execution_count": 28,
     "metadata": {},
     "output_type": "execute_result"
    }
   ],
   "source": [
    "lst[-1::-1]"
   ]
  },
  {
   "cell_type": "markdown",
   "id": "eaeb7fe4-8cff-4b98-8a66-23e9f6113b88",
   "metadata": {},
   "source": [
    "#list concatenation "
   ]
  },
  {
   "cell_type": "code",
   "execution_count": 34,
   "id": "7c70e51f-1af6-4396-8027-195b76e5d880",
   "metadata": {},
   "outputs": [
    {
     "name": "stdout",
     "output_type": "stream",
     "text": [
      "[1, 2, 3, 4, 5, 6, 'age', 'name']\n"
     ]
    }
   ],
   "source": [
    "numbers1 = [1,2,3,4]\n",
    "numbers2 = [5,6,'age','name']\n",
    "total_numbers = numbers1 + numbers2\n",
    "print(total_numbers)"
   ]
  },
  {
   "cell_type": "code",
   "execution_count": 38,
   "id": "12ab1d1a-25b0-4951-98d1-2e0c3d3bf75a",
   "metadata": {},
   "outputs": [
    {
     "data": {
      "text/plain": [
       "[1, 2, 3, 4, 1, 2, 3, 4, 1, 2, 3, 4]"
      ]
     },
     "execution_count": 38,
     "metadata": {},
     "output_type": "execute_result"
    }
   ],
   "source": [
    "#list repetation\n",
    "numbers1*3"
   ]
  },
  {
   "cell_type": "code",
   "execution_count": 40,
   "id": "e848e824-5a19-4cad-ad82-c805d4487c2c",
   "metadata": {},
   "outputs": [
    {
     "name": "stdout",
     "output_type": "stream",
     "text": [
      "[10, 20, True]\n"
     ]
    }
   ],
   "source": [
    "#list packing\n",
    "a = 10\n",
    "b = 20\n",
    "c = True\n",
    "lst = [a,b,c]\n",
    "print(lst)"
   ]
  },
  {
   "cell_type": "code",
   "execution_count": 46,
   "id": "a9ba880a-cc9c-4bdc-8d2c-0e83be550c2e",
   "metadata": {},
   "outputs": [
    {
     "name": "stdout",
     "output_type": "stream",
     "text": [
      "1\n",
      "3\n",
      "4 name age\n"
     ]
    }
   ],
   "source": [
    "#list unpacking\n",
    "lst = list([1,3,4,'name','age'])\n",
    "a,b,c,d,e = lst\n",
    "print(a)\n",
    "print(b)\n",
    "print(c,d,e)"
   ]
  },
  {
   "cell_type": "markdown",
   "id": "814cf0d2-2e95-4a9f-97ed-b7459c10cf0c",
   "metadata": {},
   "source": [
    "# List methods"
   ]
  },
  {
   "cell_type": "code",
   "execution_count": 51,
   "id": "4e5aa78a-0168-4ffd-8b38-54eaee89c43b",
   "metadata": {},
   "outputs": [
    {
     "data": {
      "text/plain": [
       "5"
      ]
     },
     "execution_count": 51,
     "metadata": {},
     "output_type": "execute_result"
    }
   ],
   "source": [
    "#len()\n",
    "lst = list([1,3,4,'name','age'])\n",
    "len(lst)"
   ]
  },
  {
   "cell_type": "code",
   "execution_count": 55,
   "id": "aafdbd4d-5072-4c5a-ba2f-77539acd69ee",
   "metadata": {},
   "outputs": [
    {
     "data": {
      "text/plain": [
       "4"
      ]
     },
     "execution_count": 55,
     "metadata": {},
     "output_type": "execute_result"
    }
   ],
   "source": [
    "#index()\n",
    "lst = list([1,3,4,'name','age'])\n",
    "lst.index('age')"
   ]
  },
  {
   "cell_type": "code",
   "execution_count": 63,
   "id": "f21e7c47-4e9b-42c8-9ad2-c0eaa114d411",
   "metadata": {},
   "outputs": [
    {
     "name": "stdout",
     "output_type": "stream",
     "text": [
      "10\n"
     ]
    },
    {
     "ename": "TypeError",
     "evalue": "'>' not supported between instances of 'str' and 'int'",
     "output_type": "error",
     "traceback": [
      "\u001b[31m---------------------------------------------------------------------------\u001b[39m",
      "\u001b[31mTypeError\u001b[39m                                 Traceback (most recent call last)",
      "\u001b[36mCell\u001b[39m\u001b[36m \u001b[39m\u001b[32mIn[63]\u001b[39m\u001b[32m, line 5\u001b[39m\n\u001b[32m      3\u001b[39m \u001b[38;5;28mprint\u001b[39m(\u001b[38;5;28mmax\u001b[39m(lstNumbers))\n\u001b[32m      4\u001b[39m lst = \u001b[38;5;28mlist\u001b[39m([\u001b[32m1\u001b[39m,\u001b[32m3\u001b[39m,\u001b[32m4\u001b[39m,\u001b[33m'\u001b[39m\u001b[33mname\u001b[39m\u001b[33m'\u001b[39m,\u001b[33m'\u001b[39m\u001b[33mage\u001b[39m\u001b[33m'\u001b[39m])\n\u001b[32m----> \u001b[39m\u001b[32m5\u001b[39m \u001b[38;5;28;43mmax\u001b[39;49m\u001b[43m(\u001b[49m\u001b[43mlst\u001b[49m\u001b[43m)\u001b[49m\n",
      "\u001b[31mTypeError\u001b[39m: '>' not supported between instances of 'str' and 'int'"
     ]
    }
   ],
   "source": [
    "#max  returns maximum number\n",
    "lstNumbers = [1,3,4,6,10]\n",
    "print(max(lstNumbers))\n",
    "lst = list([1,3,4,'name','age'])\n",
    "max(lst)"
   ]
  },
  {
   "cell_type": "code",
   "execution_count": 69,
   "id": "3fd9044b-89d2-457b-a45d-877dcc42bc45",
   "metadata": {},
   "outputs": [
    {
     "data": {
      "text/plain": [
       "1"
      ]
     },
     "execution_count": 69,
     "metadata": {},
     "output_type": "execute_result"
    }
   ],
   "source": [
    "#min\n",
    "lstNumbers = [1,3,4,6,10]\n",
    "min(lstNumbers)"
   ]
  },
  {
   "cell_type": "code",
   "execution_count": 71,
   "id": "0616397f-4627-40e6-a073-4004260ab091",
   "metadata": {},
   "outputs": [
    {
     "data": {
      "text/plain": [
       "24"
      ]
     },
     "execution_count": 71,
     "metadata": {},
     "output_type": "execute_result"
    }
   ],
   "source": [
    "#sum returns sum of list\n",
    "sum(lstNumbers)"
   ]
  },
  {
   "cell_type": "markdown",
   "id": "1154f96a-68dd-46e1-ab65-3424bc917356",
   "metadata": {},
   "source": [
    "#Different methods to add values : appedn(),extend(),insert()\n",
    "#Different methods to remove values : remove(),pop(),clear()"
   ]
  },
  {
   "cell_type": "code",
   "execution_count": 92,
   "id": "0e34ccad-368b-4c5e-8190-beafd558233c",
   "metadata": {},
   "outputs": [
    {
     "name": "stdout",
     "output_type": "stream",
     "text": [
      "[1, 3, 4, 6, 10, 'age']\n",
      "[1, 3, 4, 6, 10, 'age', [1, 2, 34]]\n"
     ]
    },
    {
     "ename": "TypeError",
     "evalue": "list.append() takes exactly one argument (3 given)",
     "output_type": "error",
     "traceback": [
      "\u001b[31m---------------------------------------------------------------------------\u001b[39m",
      "\u001b[31mTypeError\u001b[39m                                 Traceback (most recent call last)",
      "\u001b[36mCell\u001b[39m\u001b[36m \u001b[39m\u001b[32mIn[92]\u001b[39m\u001b[32m, line 7\u001b[39m\n\u001b[32m      5\u001b[39m lstNumbers.append([\u001b[32m1\u001b[39m,\u001b[32m2\u001b[39m,\u001b[32m34\u001b[39m]) \u001b[38;5;66;03m# we can a list in it making it one value \u001b[39;00m\n\u001b[32m      6\u001b[39m \u001b[38;5;28mprint\u001b[39m(lstNumbers)\n\u001b[32m----> \u001b[39m\u001b[32m7\u001b[39m \u001b[43mlstNumbers\u001b[49m\u001b[43m.\u001b[49m\u001b[43mappend\u001b[49m\u001b[43m(\u001b[49m\u001b[32;43m1\u001b[39;49m\u001b[43m,\u001b[49m\u001b[32;43m2\u001b[39;49m\u001b[43m,\u001b[49m\u001b[32;43m3\u001b[39;49m\u001b[43m)\u001b[49m\n",
      "\u001b[31mTypeError\u001b[39m: list.append() takes exactly one argument (3 given)"
     ]
    }
   ],
   "source": [
    "#append: It is used to add only one element at end of the list\n",
    "lstNumbers = [1,3,4,6,10]\n",
    "lstNumbers.append('age')\n",
    "print(lstNumbers)\n",
    "lstNumbers.append([1,2,34]) # we can a list in it making it one value \n",
    "print(lstNumbers)\n",
    "lstNumbers.append(1,2,3)"
   ]
  },
  {
   "cell_type": "code",
   "execution_count": 114,
   "id": "61d06526-233e-40be-991c-4c3a4b611134",
   "metadata": {},
   "outputs": [
    {
     "name": "stdout",
     "output_type": "stream",
     "text": [
      "[1, 3, 4, 56, 'age', 1, 3]\n",
      "[1, 3, 4, 56, 'age', 1, 3, 'age', 'name', '24']\n"
     ]
    },
    {
     "ename": "TypeError",
     "evalue": "'int' object is not iterable",
     "output_type": "error",
     "traceback": [
      "\u001b[31m---------------------------------------------------------------------------\u001b[39m",
      "\u001b[31mTypeError\u001b[39m                                 Traceback (most recent call last)",
      "\u001b[36mCell\u001b[39m\u001b[36m \u001b[39m\u001b[32mIn[114]\u001b[39m\u001b[32m, line 7\u001b[39m\n\u001b[32m      5\u001b[39m lstNum.extend((\u001b[33m'\u001b[39m\u001b[33mage\u001b[39m\u001b[33m'\u001b[39m,\u001b[33m'\u001b[39m\u001b[33mname\u001b[39m\u001b[33m'\u001b[39m,\u001b[33m'\u001b[39m\u001b[33m24\u001b[39m\u001b[33m'\u001b[39m))\n\u001b[32m      6\u001b[39m \u001b[38;5;28mprint\u001b[39m(lstNum)\n\u001b[32m----> \u001b[39m\u001b[32m7\u001b[39m \u001b[43mlstNum\u001b[49m\u001b[43m.\u001b[49m\u001b[43mextend\u001b[49m\u001b[43m(\u001b[49m\u001b[32;43m10\u001b[39;49m\u001b[43m)\u001b[49m \u001b[38;5;66;03m# don't forgot to use list[] or tuple() to extend or else error\u001b[39;00m\n",
      "\u001b[31mTypeError\u001b[39m: 'int' object is not iterable"
     ]
    }
   ],
   "source": [
    "#extend():It is used to add one or more element at end of list or tuple using list of data but it adds like noraml values\n",
    "lstNum = [1,3,4,56,'age']\n",
    "lstNum.extend([1,3])\n",
    "print(lstNum)\n",
    "lstNum.extend(('age','name','24'))\n",
    "print(lstNum)\n",
    "lstNum.extend(10) # don't forgot to use list[] or tuple() to extend or else error"
   ]
  },
  {
   "cell_type": "code",
   "execution_count": 130,
   "id": "0b204374-7ffd-4dda-86f2-f059fddcb3ac",
   "metadata": {},
   "outputs": [
    {
     "name": "stdout",
     "output_type": "stream",
     "text": [
      "[1, 3, 5, 'age', 6, 7]\n",
      "[1, 3, 5, True, 'age', 6, 7]\n",
      "[1, True, 3, 5, True, 'age', 6, 7]\n"
     ]
    }
   ],
   "source": [
    "#insert: It is used to add only one element at required position or index\n",
    "lstN = [1,3,5,6,7]\n",
    "lstN.insert(3,'age') # position and value\n",
    "print(lstN)\n",
    "lstN.insert(3,True)\n",
    "print(lstN)\n",
    "lstN.insert(True,True)\n",
    "print(lstN)"
   ]
  },
  {
   "cell_type": "markdown",
   "id": "433887dd-f2a3-4139-b3d9-5efc1158e830",
   "metadata": {},
   "source": [
    "#remove: it is used to delete a specific element from list\n",
    "#It allows only one element,if the argument in the list then it will delete the element\n",
    "#if the argument is not there it will return typeerorr"
   ]
  },
  {
   "cell_type": "code",
   "execution_count": 138,
   "id": "6035a078-8b2f-4ca4-9ef8-a476adece3f7",
   "metadata": {},
   "outputs": [
    {
     "name": "stdout",
     "output_type": "stream",
     "text": [
      "[20, 30, 5, 'age']\n",
      "[20, 30, 5]\n"
     ]
    },
    {
     "ename": "TypeError",
     "evalue": "list.remove() takes exactly one argument (0 given)",
     "output_type": "error",
     "traceback": [
      "\u001b[31m---------------------------------------------------------------------------\u001b[39m",
      "\u001b[31mTypeError\u001b[39m                                 Traceback (most recent call last)",
      "\u001b[36mCell\u001b[39m\u001b[36m \u001b[39m\u001b[32mIn[138]\u001b[39m\u001b[32m, line 6\u001b[39m\n\u001b[32m      4\u001b[39m lst.remove(\u001b[33m'\u001b[39m\u001b[33mage\u001b[39m\u001b[33m'\u001b[39m)\n\u001b[32m      5\u001b[39m \u001b[38;5;28mprint\u001b[39m(lst)\n\u001b[32m----> \u001b[39m\u001b[32m6\u001b[39m \u001b[43mlst\u001b[49m\u001b[43m.\u001b[49m\u001b[43mremove\u001b[49m\u001b[43m(\u001b[49m\u001b[43m)\u001b[49m\n",
      "\u001b[31mTypeError\u001b[39m: list.remove() takes exactly one argument (0 given)"
     ]
    }
   ],
   "source": [
    "lst = [10,20,30,5,'age']\n",
    "lst.remove(10)\n",
    "print(lst)\n",
    "lst.remove('age')\n",
    "print(lst)\n",
    "lst.remove()"
   ]
  },
  {
   "cell_type": "markdown",
   "id": "fd07c824-2de4-4277-bbc7-b83d36e958fd",
   "metadata": {},
   "source": [
    "#POP:\n",
    "#It is used to delete any specific elements by using its index number"
   ]
  },
  {
   "cell_type": "code",
   "execution_count": 144,
   "id": "e7cf8909-1a9b-4a8a-94d9-c6413b5abe25",
   "metadata": {},
   "outputs": [
    {
     "name": "stdout",
     "output_type": "stream",
     "text": [
      "5\n",
      "[10, 2, 6, 7]\n",
      "[10, 2, 6]\n"
     ]
    },
    {
     "ename": "IndexError",
     "evalue": "pop index out of range",
     "output_type": "error",
     "traceback": [
      "\u001b[31m---------------------------------------------------------------------------\u001b[39m",
      "\u001b[31mIndexError\u001b[39m                                Traceback (most recent call last)",
      "\u001b[36mCell\u001b[39m\u001b[36m \u001b[39m\u001b[32mIn[144]\u001b[39m\u001b[32m, line 6\u001b[39m\n\u001b[32m      4\u001b[39m lst_num.pop(\u001b[32m3\u001b[39m)\n\u001b[32m      5\u001b[39m \u001b[38;5;28mprint\u001b[39m(lst_num)\n\u001b[32m----> \u001b[39m\u001b[32m6\u001b[39m \u001b[43mlst_num\u001b[49m\u001b[43m.\u001b[49m\u001b[43mpop\u001b[49m\u001b[43m(\u001b[49m\u001b[32;43m4\u001b[39;49m\u001b[43m)\u001b[49m\n",
      "\u001b[31mIndexError\u001b[39m: pop index out of range"
     ]
    }
   ],
   "source": [
    "lst_num = [10,2,5,6,7]\n",
    "print(lst_num.pop(2)) # removes element by index value\n",
    "print(lst_num)\n",
    "lst_num.pop(3)\n",
    "print(lst_num)\n",
    "lst_num.pop(4)"
   ]
  },
  {
   "cell_type": "code",
   "execution_count": 148,
   "id": "a2aaedac-d66e-4a4b-94e1-b667fc4d474e",
   "metadata": {},
   "outputs": [
    {
     "data": {
      "text/plain": [
       "[]"
      ]
     },
     "execution_count": 148,
     "metadata": {},
     "output_type": "execute_result"
    }
   ],
   "source": [
    "#Clear : clear all list elements\n",
    "lst = [1,'age',4,6]\n",
    "lst.clear()\n",
    "lst"
   ]
  },
  {
   "cell_type": "code",
   "execution_count": 154,
   "id": "1d8cefb1-b337-484a-a843-3eac6a4d1576",
   "metadata": {},
   "outputs": [
    {
     "name": "stdout",
     "output_type": "stream",
     "text": [
      "[100, 2, 3, 4, 5, 6]\n",
      "[100, 3, 4, 5, 6]\n"
     ]
    }
   ],
   "source": [
    "#python list supports item assignment and item deletion\n",
    "lst = [1,2,3,4,5,6]\n",
    "lst[0] = 100 #item assignment\n",
    "print(lst)\n",
    "\n",
    "del lst[1] #index used to deletion\n",
    "print(lst)"
   ]
  },
  {
   "cell_type": "code",
   "execution_count": 176,
   "id": "7d7ee7ae-85bc-4015-bf21-73c86efc6467",
   "metadata": {},
   "outputs": [
    {
     "name": "stdout",
     "output_type": "stream",
     "text": [
      "['banana', 'watermelon', 'graphs']\n"
     ]
    }
   ],
   "source": [
    "fruits = ['banana','watermelon','graphs']\n",
    "print(fruits)\n",
    "#fruits[2:] = \"banana\" # just like loop upto banana"
   ]
  },
  {
   "cell_type": "code",
   "execution_count": 178,
   "id": "753b5919-b2b8-4ca8-bfe7-502300ebe994",
   "metadata": {},
   "outputs": [
    {
     "name": "stdout",
     "output_type": "stream",
     "text": [
      "['banana', 'graphs', 'watermelon']\n"
     ]
    }
   ],
   "source": [
    "fruits.sort()\n",
    "print(fruits)"
   ]
  },
  {
   "cell_type": "code",
   "execution_count": 180,
   "id": "1410009a-c8b8-46cd-aabd-dc3b6cd1230c",
   "metadata": {},
   "outputs": [
    {
     "data": {
      "text/plain": [
       "['watermelon', 'graphs', 'banana']"
      ]
     },
     "execution_count": 180,
     "metadata": {},
     "output_type": "execute_result"
    }
   ],
   "source": [
    "fruits.reverse()\n",
    "fruits"
   ]
  },
  {
   "cell_type": "code",
   "execution_count": 182,
   "id": "85a47e14-f1fe-4023-a3ae-75136899faa7",
   "metadata": {},
   "outputs": [
    {
     "name": "stdout",
     "output_type": "stream",
     "text": [
      "10\n",
      "20\n",
      "30\n",
      "40\n",
      "50\n",
      "60\n"
     ]
    }
   ],
   "source": [
    "#Iteraing over list\n",
    "numbers = [10,20,30,40,50,60]\n",
    "for i in numbers:\n",
    "    print(i)"
   ]
  },
  {
   "cell_type": "code",
   "execution_count": 184,
   "id": "2c2583a4-65e9-4bb2-86e7-6a6fd02bbdb8",
   "metadata": {},
   "outputs": [
    {
     "name": "stdout",
     "output_type": "stream",
     "text": [
      "0 10\n",
      "1 20\n",
      "2 30\n",
      "3 40\n",
      "4 50\n",
      "5 60\n"
     ]
    }
   ],
   "source": [
    "for index,numbers in enumerate(numbers):\n",
    "    print(index,numbers)"
   ]
  },
  {
   "cell_type": "code",
   "execution_count": 198,
   "id": "99a8030d-e19d-46d8-a6c3-3439e2caed97",
   "metadata": {},
   "outputs": [
    {
     "name": "stdout",
     "output_type": "stream",
     "text": [
      "[100, 400, 900, 1600, 2500, 3600]\n"
     ]
    }
   ],
   "source": [
    "#List Comprehension\n",
    "lst = []\n",
    "numbers = [10,20,30,40,50,60]\n",
    "for i in numbers:\n",
    "    lst.append(i**2)\n",
    "print(lst)"
   ]
  },
  {
   "cell_type": "code",
   "execution_count": 202,
   "id": "ef06cc21-73b4-4059-b715-f6e1af39df7c",
   "metadata": {},
   "outputs": [
    {
     "data": {
      "text/plain": [
       "[100, 400, 900, 1600, 2500, 3600]"
      ]
     },
     "execution_count": 202,
     "metadata": {},
     "output_type": "execute_result"
    }
   ],
   "source": [
    "[i**2 for i in numbers]"
   ]
  },
  {
   "cell_type": "code",
   "execution_count": 204,
   "id": "612c5006-a1ca-4048-9a9d-773d3b43c40b",
   "metadata": {},
   "outputs": [
    {
     "data": {
      "text/plain": [
       "[100, 400, 900, 1600, 2500, 3600]"
      ]
     },
     "execution_count": 204,
     "metadata": {},
     "output_type": "execute_result"
    }
   ],
   "source": [
    "# Basic list comprehension (expression for item in iterable)\n",
    "[i**2 for i in numbers]"
   ]
  },
  {
   "cell_type": "code",
   "execution_count": 208,
   "id": "c87474a7-2856-488a-a148-239a3e82caa8",
   "metadata": {},
   "outputs": [
    {
     "data": {
      "text/plain": [
       "[0, 1, 4, 9, 16, 25, 36, 49, 64, 81]"
      ]
     },
     "execution_count": 208,
     "metadata": {},
     "output_type": "execute_result"
    }
   ],
   "source": [
    "[i**2 for i in range(10)]"
   ]
  },
  {
   "cell_type": "code",
   "execution_count": 218,
   "id": "b5147cea-5013-4f6a-9668-cf7b1593aa59",
   "metadata": {},
   "outputs": [
    {
     "name": "stdout",
     "output_type": "stream",
     "text": [
      "2\n",
      "4\n",
      "6\n",
      "8\n",
      "[2, 4, 6, 8]\n"
     ]
    }
   ],
   "source": [
    "for i in range(1,10):\n",
    "    if i % 2 == 0:\n",
    "        print(i)\n",
    "\n",
    "print([i for i in range(1,10) if i%2 == 0])"
   ]
  },
  {
   "cell_type": "code",
   "execution_count": 246,
   "id": "88753023-8c4d-4d88-b218-5a0a4192be4d",
   "metadata": {},
   "outputs": [
    {
     "name": "stdout",
     "output_type": "stream",
     "text": [
      "[1, 5]\n",
      "[1, 6]\n",
      "[1, 7]\n",
      "[1, 8]\n",
      "[2, 5]\n",
      "[2, 6]\n",
      "[2, 7]\n",
      "[2, 8]\n",
      "[3, 5]\n",
      "[3, 6]\n",
      "[3, 7]\n",
      "[3, 8]\n",
      "[4, 5]\n",
      "[4, 6]\n",
      "[4, 7]\n",
      "[4, 8]\n"
     ]
    }
   ],
   "source": [
    "# nested list comprehension\n",
    "lst1 = [1,2,3,4]\n",
    "lst2 = [5,6,7,8]\n",
    "lst = []\n",
    "for i in lst1:\n",
    "    for j in lst2:\n",
    "        print([i,j])"
   ]
  },
  {
   "cell_type": "code",
   "execution_count": 238,
   "id": "24919956-88ff-49c6-bed8-2b5f66c88922",
   "metadata": {},
   "outputs": [
    {
     "name": "stdout",
     "output_type": "stream",
     "text": [
      "[[1, 5], [1, 6], [1, 7], [1, 8], [2, 5], [2, 6], [2, 7], [2, 8], [3, 5], [3, 6], [3, 7], [3, 8], [4, 5], [4, 6], [4, 7], [4, 8]]\n"
     ]
    }
   ],
   "source": [
    "lst = [[i,j] for i in lst1 for j in lst2]\n",
    "print(lst)"
   ]
  },
  {
   "cell_type": "code",
   "execution_count": 248,
   "id": "9323b356-3fae-43f7-a402-b8af58d35c5e",
   "metadata": {},
   "outputs": [
    {
     "name": "stdout",
     "output_type": "stream",
     "text": [
      "5\n",
      "6\n",
      "11\n",
      "6\n"
     ]
    }
   ],
   "source": [
    "#length of each words\n",
    "fruits = ['apple','banana','watermelone','graphs']\n",
    "for i in fruits:\n",
    "    print(len(i))"
   ]
  },
  {
   "cell_type": "code",
   "execution_count": 250,
   "id": "b6f61512-ce45-4b3c-af18-8c8310f9034e",
   "metadata": {},
   "outputs": [
    {
     "name": "stdout",
     "output_type": "stream",
     "text": [
      "[5, 6, 11, 6]\n"
     ]
    }
   ],
   "source": [
    "leng = [len(i) for i in fruits]\n",
    "print(leng)"
   ]
  },
  {
   "cell_type": "markdown",
   "id": "838094bb-0189-4a8c-87d5-39908da1c45d",
   "metadata": {},
   "source": [
    "# Problems"
   ]
  },
  {
   "cell_type": "code",
   "execution_count": 257,
   "id": "ff5a4e62-3588-4910-85ce-a53f7b294b11",
   "metadata": {},
   "outputs": [
    {
     "name": "stdout",
     "output_type": "stream",
     "text": [
      "15\n",
      "15\n"
     ]
    }
   ],
   "source": [
    "#sum of list elements\n",
    "lst = [1,2,3,4,5]\n",
    "print(sum(lst))\n",
    "\n",
    "sum = 0\n",
    "for i in lst:\n",
    "    sum += i\n",
    "print(sum)"
   ]
  },
  {
   "cell_type": "code",
   "execution_count": null,
   "id": "a6b3c895-a88a-4e12-a1af-3ad817eaf9ba",
   "metadata": {},
   "outputs": [],
   "source": []
  },
  {
   "cell_type": "code",
   "execution_count": null,
   "id": "5d40be9e-7748-470e-b0a3-c6df0a75ea30",
   "metadata": {},
   "outputs": [],
   "source": []
  }
 ],
 "metadata": {
  "kernelspec": {
   "display_name": "Python [conda env:venv]",
   "language": "python",
   "name": "conda-env-venv-py"
  },
  "language_info": {
   "codemirror_mode": {
    "name": "ipython",
    "version": 3
   },
   "file_extension": ".py",
   "mimetype": "text/x-python",
   "name": "python",
   "nbconvert_exporter": "python",
   "pygments_lexer": "ipython3",
   "version": "3.13.4"
  }
 },
 "nbformat": 4,
 "nbformat_minor": 5
}
