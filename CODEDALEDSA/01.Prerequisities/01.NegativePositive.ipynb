{
 "cells": [
  {
   "cell_type": "markdown",
   "id": "2d699aad",
   "metadata": {},
   "source": [
    "## Working on Prerequisites Problems to start befor diving into DSA"
   ]
  },
  {
   "cell_type": "markdown",
   "id": "7e660121",
   "metadata": {},
   "source": [
    "##### Check if a Number is Positive and Negative in Python\n",
    "Method 1: Using Brute Force\n",
    "\n",
    "Method 2: Using Nested if-else Statements\n",
    "\n",
    "Method 3: Using ternary operator"
   ]
  },
  {
   "cell_type": "code",
   "execution_count": 13,
   "id": "203d38e7",
   "metadata": {},
   "outputs": [
    {
     "name": "stdout",
     "output_type": "stream",
     "text": [
      "Number is positive\n"
     ]
    }
   ],
   "source": [
    "num = 10\n",
    "if num > 0:\n",
    "  print(\"Number is positive\")\n",
    "elif num < 0:\n",
    "  print(\"Number is negative\")\n",
    "else:\n",
    "  print(\"Number is zero\")"
   ]
  },
  {
   "cell_type": "code",
   "execution_count": 14,
   "id": "47e2f0d0",
   "metadata": {},
   "outputs": [
    {
     "name": "stdout",
     "output_type": "stream",
     "text": [
      "Negative\n"
     ]
    }
   ],
   "source": [
    "# Method 2: Using Nested if-else Statements\n",
    "num = -1\n",
    "if num >= 0:\n",
    "  if num == 0:\n",
    "    print('zero')\n",
    "  else:\n",
    "    print(\"Positive\")\n",
    "else:\n",
    "  print(\"Negative\")"
   ]
  },
  {
   "cell_type": "code",
   "execution_count": 15,
   "id": "c9a23092",
   "metadata": {},
   "outputs": [
    {
     "name": "stdout",
     "output_type": "stream",
     "text": [
      "Negative\n"
     ]
    }
   ],
   "source": [
    "# Method 3: Using ternary operator\n",
    "num = -10\n",
    "print(\"Possitive\" if num > 0 else \"Negative\" if num < 0 else \"Zero\")"
   ]
  }
 ],
 "metadata": {
  "kernelspec": {
   "display_name": "dsavenv (3.13.5)",
   "language": "python",
   "name": "python3"
  },
  "language_info": {
   "codemirror_mode": {
    "name": "ipython",
    "version": 3
   },
   "file_extension": ".py",
   "mimetype": "text/x-python",
   "name": "python",
   "nbconvert_exporter": "python",
   "pygments_lexer": "ipython3",
   "version": "3.13.5"
  }
 },
 "nbformat": 4,
 "nbformat_minor": 5
}
