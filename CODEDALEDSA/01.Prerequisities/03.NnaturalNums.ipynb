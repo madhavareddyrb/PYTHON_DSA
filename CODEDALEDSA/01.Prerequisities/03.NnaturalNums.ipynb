{
 "cells": [
  {
   "cell_type": "markdown",
   "id": "81452d9a",
   "metadata": {},
   "source": [
    "##### Find the Sum of N Natural Numbers\n",
    "\n",
    "Method 1: Using for Loop\n",
    "\n",
    "Method 2: Using Formula\n",
    "\n",
    "Method 3: Using Recursion"
   ]
  },
  {
   "cell_type": "code",
   "execution_count": 2,
   "id": "fff06847",
   "metadata": {},
   "outputs": [
    {
     "name": "stdout",
     "output_type": "stream",
     "text": [
      "15\n"
     ]
    }
   ],
   "source": [
    "num = 5\n",
    "sum = 0\n",
    "for i in range(1,num+1):\n",
    "\tsum += i\n",
    "print(sum)"
   ]
  },
  {
   "cell_type": "code",
   "execution_count": 8,
   "id": "651e3b07",
   "metadata": {},
   "outputs": [
    {
     "data": {
      "text/plain": [
       "15"
      ]
     },
     "execution_count": 8,
     "metadata": {},
     "output_type": "execute_result"
    }
   ],
   "source": [
    "number = 5\n",
    "sum = int((number * (number + 1))/2)\n",
    "sum"
   ]
  },
  {
   "cell_type": "code",
   "execution_count": 10,
   "id": "6323b361",
   "metadata": {},
   "outputs": [
    {
     "data": {
      "text/plain": [
       "15"
      ]
     },
     "execution_count": 10,
     "metadata": {},
     "output_type": "execute_result"
    }
   ],
   "source": [
    "def recursum(number):\n",
    "\tif number == 0:\n",
    "\t\treturn number\n",
    "\treturn number + recursum(number - 1)\n",
    "number = 5\n",
    "recursum(number)"
   ]
  },
  {
   "cell_type": "code",
   "execution_count": null,
   "id": "13d1a535",
   "metadata": {},
   "outputs": [],
   "source": []
  }
 ],
 "metadata": {
  "kernelspec": {
   "display_name": "dsavenv (3.13.5)",
   "language": "python",
   "name": "python3"
  },
  "language_info": {
   "codemirror_mode": {
    "name": "ipython",
    "version": 3
   },
   "file_extension": ".py",
   "mimetype": "text/x-python",
   "name": "python",
   "nbconvert_exporter": "python",
   "pygments_lexer": "ipython3",
   "version": "3.13.5"
  }
 },
 "nbformat": 4,
 "nbformat_minor": 5
}
