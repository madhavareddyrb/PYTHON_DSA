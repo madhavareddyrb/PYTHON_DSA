{
 "cells": [
  {
   "cell_type": "markdown",
   "id": "a9d65a9b",
   "metadata": {},
   "source": [
    "## Find the Sum of the Numbers in a Given Interval\n",
    "Method 1: Using Brute Force\n",
    "\n",
    "Method 2: Using the Formula\n",
    "\n",
    "Method 3: Using Recursion"
   ]
  },
  {
   "cell_type": "code",
   "execution_count": 1,
   "id": "4df22432",
   "metadata": {},
   "outputs": [
    {
     "name": "stdout",
     "output_type": "stream",
     "text": [
      "45\n"
     ]
    }
   ],
   "source": [
    "start,end = 5,10\n",
    "sum = 0\n",
    "for num in range(start,end + 1):\n",
    "\tsum += num\n",
    "print(sum)"
   ]
  },
  {
   "cell_type": "code",
   "execution_count": 9,
   "id": "3b030a4c",
   "metadata": {},
   "outputs": [
    {
     "data": {
      "text/plain": [
       "18.0"
      ]
     },
     "execution_count": 9,
     "metadata": {},
     "output_type": "execute_result"
    }
   ],
   "source": [
    "start, end = 3, 6\n",
    "sum = ((end * (end + 1) / 2) - (start * (start + 1) / 2) + start)\n",
    "sum"
   ]
  },
  {
   "cell_type": "code",
   "execution_count": 2,
   "id": "2d4618ae",
   "metadata": {},
   "outputs": [
    {
     "data": {
      "text/plain": [
       "15"
      ]
     },
     "execution_count": 2,
     "metadata": {},
     "output_type": "execute_result"
    }
   ],
   "source": [
    "def sumRange(sum,start,end):\n",
    "\tif start > end:\n",
    "\t\treturn sum\n",
    "\treturn start + sumRange(sum, start + 1, end)\n",
    "\n",
    "start, end = 1, 5\n",
    "sum = 0\n",
    "sumRange(sum,start,end)"
   ]
  },
  {
   "cell_type": "code",
   "execution_count": null,
   "id": "b4601504",
   "metadata": {},
   "outputs": [],
   "source": []
  }
 ],
 "metadata": {
  "kernelspec": {
   "display_name": "dsavenv (3.13.5)",
   "language": "python",
   "name": "python3"
  },
  "language_info": {
   "codemirror_mode": {
    "name": "ipython",
    "version": 3
   },
   "file_extension": ".py",
   "mimetype": "text/x-python",
   "name": "python",
   "nbconvert_exporter": "python",
   "pygments_lexer": "ipython3",
   "version": "3.13.5"
  }
 },
 "nbformat": 4,
 "nbformat_minor": 5
}
