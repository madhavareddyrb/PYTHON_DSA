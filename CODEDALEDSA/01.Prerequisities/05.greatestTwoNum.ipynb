{
 "cells": [
  {
   "cell_type": "markdown",
   "id": "a584f6ae",
   "metadata": {},
   "source": [
    "#### Find the Greatest of Two Numbers in Python\n",
    "Method 1: Using if-else Statements\n",
    "\n",
    "Method 2: Using Ternary Operator\n",
    "\n",
    "Method 3: Using inbuilt max() Function\n"
   ]
  },
  {
   "cell_type": "code",
   "execution_count": 6,
   "id": "f966ebc2",
   "metadata": {},
   "outputs": [
    {
     "name": "stdout",
     "output_type": "stream",
     "text": [
      "Number2--(20) is greater than number1--(10)\n"
     ]
    }
   ],
   "source": [
    "num1 = 10\n",
    "num2 = 20\n",
    "if num1 > num2:\n",
    "\tprint(f'Number1--({num1}) is greater than number2--({num2})')\n",
    "else:\n",
    "\tprint(f'Number2--({num2}) is greater than number1--({num1})')"
   ]
  },
  {
   "cell_type": "code",
   "execution_count": 10,
   "id": "923bd15f",
   "metadata": {},
   "outputs": [
    {
     "data": {
      "text/plain": [
       "'Number1--(40) is greater than number2--(39)'"
      ]
     },
     "execution_count": 10,
     "metadata": {},
     "output_type": "execute_result"
    }
   ],
   "source": [
    "num1 = 40\n",
    "num2 = 39\n",
    "\n",
    "f'Number1--({num1}) is greater than number2--({num2})' if num1 > num2 else f'Number2--({num2}) is greater than number1--({num1})'"
   ]
  },
  {
   "cell_type": "code",
   "execution_count": 12,
   "id": "f163b5c4",
   "metadata": {},
   "outputs": [
    {
     "data": {
      "text/plain": [
       "20"
      ]
     },
     "execution_count": 12,
     "metadata": {},
     "output_type": "execute_result"
    }
   ],
   "source": [
    "num1, num2 = 10, 20\n",
    "max(num1,num2)"
   ]
  },
  {
   "cell_type": "code",
   "execution_count": null,
   "id": "07215eb6",
   "metadata": {},
   "outputs": [],
   "source": []
  }
 ],
 "metadata": {
  "kernelspec": {
   "display_name": "dsavenv (3.13.5)",
   "language": "python",
   "name": "python3"
  },
  "language_info": {
   "codemirror_mode": {
    "name": "ipython",
    "version": 3
   },
   "file_extension": ".py",
   "mimetype": "text/x-python",
   "name": "python",
   "nbconvert_exporter": "python",
   "pygments_lexer": "ipython3",
   "version": "3.13.5"
  }
 },
 "nbformat": 4,
 "nbformat_minor": 5
}
