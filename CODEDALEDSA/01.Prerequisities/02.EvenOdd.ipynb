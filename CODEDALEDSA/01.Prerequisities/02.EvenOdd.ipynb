{
 "cells": [
  {
   "cell_type": "markdown",
   "id": "f34abc81",
   "metadata": {},
   "source": [
    "### Check Whether a Number is Even or Odd in Python\n",
    "Method 1 : Using Brute Force\n",
    "\n",
    "Method 2 : Using Ternary Operator\n",
    "\n",
    "Method 3 : Using Bitwise Operators"
   ]
  },
  {
   "cell_type": "code",
   "execution_count": 8,
   "id": "5e71df68",
   "metadata": {},
   "outputs": [
    {
     "name": "stdout",
     "output_type": "stream",
     "text": [
      "Zero\n"
     ]
    }
   ],
   "source": [
    "number = 0\n",
    "if number % 2 == 0 and number != 0:\n",
    "  print(\"Even Number\")\n",
    "elif number == 0 :\n",
    "  print(\"Zero\")\n",
    "else:\n",
    "  print(\"Odd Number\")"
   ]
  },
  {
   "cell_type": "code",
   "execution_count": 13,
   "id": "d37d9284",
   "metadata": {},
   "outputs": [
    {
     "data": {
      "text/plain": [
       "'Odd Number'"
      ]
     },
     "execution_count": 13,
     "metadata": {},
     "output_type": "execute_result"
    }
   ],
   "source": [
    "num = 5\n",
    "\"Even Number\" if num % 2 == 0 else \"Odd Number\""
   ]
  },
  {
   "cell_type": "code",
   "execution_count": 20,
   "id": "09005857",
   "metadata": {},
   "outputs": [
    {
     "name": "stdout",
     "output_type": "stream",
     "text": [
      "Even Number\n"
     ]
    }
   ],
   "source": [
    "def isEven(num):\n",
    "\treturn not num & 1\n",
    "\n",
    "if __name__ == \"__main__\":\n",
    "\tnum = 10\n",
    "\tif isEven(num):\n",
    "\t\tprint(\"Even Number\")\n",
    "\telse:\n",
    "\t\tprint(\"Odd\")"
   ]
  },
  {
   "cell_type": "code",
   "execution_count": null,
   "id": "7668e92e",
   "metadata": {},
   "outputs": [],
   "source": []
  }
 ],
 "metadata": {
  "kernelspec": {
   "display_name": "dsavenv (3.13.5)",
   "language": "python",
   "name": "python3"
  },
  "language_info": {
   "codemirror_mode": {
    "name": "ipython",
    "version": 3
   },
   "file_extension": ".py",
   "mimetype": "text/x-python",
   "name": "python",
   "nbconvert_exporter": "python",
   "pygments_lexer": "ipython3",
   "version": "3.13.5"
  }
 },
 "nbformat": 4,
 "nbformat_minor": 5
}
